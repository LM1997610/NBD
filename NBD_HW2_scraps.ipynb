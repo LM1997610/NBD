{
  "nbformat": 4,
  "nbformat_minor": 0,
  "metadata": {
    "colab": {
      "provenance": [],
      "include_colab_link": true
    },
    "kernelspec": {
      "name": "python3",
      "display_name": "Python 3"
    },
    "language_info": {
      "name": "python"
    }
  },
  "cells": [
    {
      "cell_type": "markdown",
      "metadata": {
        "id": "view-in-github",
        "colab_type": "text"
      },
      "source": [
        "<a href=\"https://colab.research.google.com/github/LM1997610/Networking-for-Big-Data/blob/main/NBD_HW2_scraps.ipynb\" target=\"_parent\"><img src=\"https://colab.research.google.com/assets/colab-badge.svg\" alt=\"Open In Colab\"/></a>"
      ]
    },
    {
      "cell_type": "code",
      "source": [
        "import numpy as np\n",
        "import pandas as pd"
      ],
      "metadata": {
        "id": "09t-STFzGylV"
      },
      "execution_count": null,
      "outputs": []
    },
    {
      "cell_type": "code",
      "source": [
        "!gdown 19baCZ9_wVNSBWVRJFtDIA4haBxv6IXAw"
      ],
      "metadata": {
        "colab": {
          "base_uri": "https://localhost:8080/"
        },
        "id": "5V958RZqGvVl",
        "outputId": "4c9575f7-044b-467f-8b19-d7173929fe4f"
      },
      "execution_count": null,
      "outputs": [
        {
          "output_type": "stream",
          "name": "stdout",
          "text": [
            "Downloading...\n",
            "From: https://drive.google.com/uc?id=19baCZ9_wVNSBWVRJFtDIA4haBxv6IXAw\n",
            "To: /content/Cell_a.zip\n",
            "100% 43.3M/43.3M [00:00<00:00, 155MB/s]\n"
          ]
        }
      ]
    },
    {
      "cell_type": "code",
      "source": [
        "data = pd.read_csv('Cell_a.zip')"
      ],
      "metadata": {
        "id": "GwUii75vG0Y_"
      },
      "execution_count": null,
      "outputs": []
    },
    {
      "cell_type": "code",
      "execution_count": null,
      "metadata": {
        "id": "J8rhH0Vq9rIn"
      },
      "outputs": [],
      "source": [
        "class LWLDispatcher:\n",
        "  def __init__(self, N, data):\n",
        "    self.N = N\n",
        "    self.clock = int(data.iloc[0,2])\n",
        "    self.controller = DispatcherControl(N)\n",
        "    self.job_controller = JobControl(data).register\n",
        "    self.servers = [FCFS(id) for id in range(0,N)]\n",
        "  \n",
        "\n",
        "  def dispatch(self, task, µ = 0.1):\n",
        "    new_job_id = str(int(task[\"Job_ID\"]))+ \"_\" + str(int(task[\"Task_ID\"]))\n",
        "    arrival_time_task = int(task[\"Arrival_Time\"])\n",
        "    running_time_task = (task[\"CPU\"]/µ)*1000     \n",
        "\n",
        "    memory = task[\"Memory\"]\n",
        "    workload = np.array([sum(list(self.controller.details[s].values()))\n",
        "                for s in range(0,self.N)])\n",
        "    pointed = np.argmin(workload)\n",
        "    check = False\n",
        "    while check == False:\n",
        "      if self.controller.memory_constraint(pointed, memory) == False:\n",
        "        workload[pointed] = 1.1\n",
        "        pointed = np.argmin(workload)\n",
        "      else:\n",
        "        check = True\n",
        "\n",
        "    self.servers[pointed].add_to_queue(task)\n",
        "    \n",
        "    self.controller.memory_status[pointed] -= memory\n",
        "    self.controller.details[pointed][new_job_id] = running_time_task\n",
        "    if self.controller.status[pointed] == 0:\n",
        "      self.controller.status[pointed] = 1\n",
        "    self.controller.queue_length[pointed] += 1\n",
        "\n",
        "  def time_manager(self, task):\n",
        "    timestamp = int(task['Arrival_Time'])\n",
        "    if self.clock != timestamp:\n",
        "      for i in [k for k in range(self.N) if len(self.servers[k].queue)>0]:\n",
        "        info = self.servers[i].queue\n",
        "        temp = timestamp\n",
        "        pre = info[0]['arrival_time']\n",
        "        delta = temp - pre\n",
        "        loop = True\n",
        "        while loop:\n",
        "          job = info[0]['id'].split('_')[0]\n",
        "          d = info[0]['service_time'] - delta\n",
        "          if d > 0:\n",
        "            for j in range(1, len(self.servers[i].queue)):\n",
        "              info[j]['waiting_time'] += delta\n",
        "              loop = False\n",
        "          else:\n",
        "            self.servers[i].queue.pop(0)\n",
        "            accomp = timestamp + d\n",
        "            d = info[0]['service_time'] - delta\n",
        "            self.job_controller[job]['Ntasks'] -= 1\n",
        "            if accomp > self.job_controller[job]['completion']:\n",
        "              self.job_controller[job]['completion'] = accomp\n",
        "              d = delta\n",
        "\n",
        "    self.clock = timestamp\n",
        "            \n",
        "class FCFS:\n",
        "  def __init__(self, id):\n",
        "    self.server_id = id \n",
        "    self.status = 0\n",
        "    self.memory = 1 \n",
        "    self.queue = []  \n",
        "    self.queue_status = []  \n",
        "    self.workload = 0 \n",
        "    #self.list_done_task = []   # for messages with dispatcher \n",
        "    \n",
        "  def dequeueing(self, task):\n",
        "    self.queue.pop(0)           #send a message to dispatcher with timestamp info\n",
        "\n",
        "  def add_to_queue(self, dizionario : dict, µ = 0.1 ):\n",
        "    new_job_id = str(int(dizionario[\"Job_ID\"]))+ \"_\" + str(int(dizionario[\"Task_ID\"]))\n",
        "    arrival_time_task = int(dizionario[\"Arrival_Time\"])\n",
        "    running_time_task = (dizionario[\"CPU\"]/ µ)*1000     # from seconds to milliseconds\n",
        "    a_dict = {\"id\": new_job_id, \"arrival_time\": arrival_time_task, \"service_time\" : running_time_task, 'waiting_time':0}\n",
        "    if self.memory > dizionario[\"Memory\"]: \n",
        "      self.memory -= dizionario[\"Memory\"]\n",
        "      self.queue.append(a_dict)   ### and do some work     \n",
        "    else: \n",
        "      return 0\n",
        "\n",
        "class JobControl:\n",
        "  def __init__(self, df):\n",
        "    arrival_times = np.array(pd.unique(df['Arrival_Time']))\n",
        "    id_s = np.array(pd.unique(df['Job_ID']))\n",
        "    count = np.array(df.groupby('Job_ID')[\"Task_ID\"].count())\n",
        "    self.register = {id:{'Ntasks':k, 'arrival':t, 'completion':0} for (id, k, t) in zip(id_s, count, arrival_times)}\n",
        "\n",
        "class DispatcherControl:\n",
        "\n",
        "  def __init__(self, N):\n",
        "    self.servers_number = N\n",
        "    self.status = {s:0 for s in range(0,N)}\n",
        "    self.queue_length = {s:0 for s in range(0,N)}\n",
        "    self.memory_status = {s:1 for s in range(0,N)}\n",
        "    self.details = {s:{} for s in range(0,N)}\n",
        "\n",
        "  def is_idle(self, server): \n",
        "    return self.status[server] == 0\n",
        "\n",
        "  def memory_constraint(self, server, task_memory):\n",
        "    return self.memory_status[server] - task_memory > 0"
      ]
    },
    {
      "cell_type": "code",
      "source": [
        "a = LWLDispatcher(64, data)"
      ],
      "metadata": {
        "id": "r_epmpb6eqqB"
      },
      "execution_count": null,
      "outputs": []
    },
    {
      "cell_type": "code",
      "source": [
        "for q in range(20):\n",
        "  task = data.iloc[q,].to_dict()\n",
        "  a.time_manager(task)\n",
        "  a.dispatch(task)"
      ],
      "metadata": {
        "colab": {
          "base_uri": "https://localhost:8080/",
          "height": 339
        },
        "id": "LMSQ1R5xkf64",
        "outputId": "ec556842-9240-4476-cc9e-1fa5d65eec37"
      },
      "execution_count": null,
      "outputs": [
        {
          "output_type": "error",
          "ename": "IndexError",
          "evalue": "ignored",
          "traceback": [
            "\u001b[0;31m---------------------------------------------------------------------------\u001b[0m",
            "\u001b[0;31mIndexError\u001b[0m                                Traceback (most recent call last)",
            "\u001b[0;32m<ipython-input-151-320143731255>\u001b[0m in \u001b[0;36m<cell line: 1>\u001b[0;34m()\u001b[0m\n\u001b[1;32m      1\u001b[0m \u001b[0;32mfor\u001b[0m \u001b[0mq\u001b[0m \u001b[0;32min\u001b[0m \u001b[0mrange\u001b[0m\u001b[0;34m(\u001b[0m\u001b[0;36m20\u001b[0m\u001b[0;34m)\u001b[0m\u001b[0;34m:\u001b[0m\u001b[0;34m\u001b[0m\u001b[0;34m\u001b[0m\u001b[0m\n\u001b[1;32m      2\u001b[0m   \u001b[0mtask\u001b[0m \u001b[0;34m=\u001b[0m \u001b[0mdata\u001b[0m\u001b[0;34m.\u001b[0m\u001b[0miloc\u001b[0m\u001b[0;34m[\u001b[0m\u001b[0mq\u001b[0m\u001b[0;34m,\u001b[0m\u001b[0;34m]\u001b[0m\u001b[0;34m.\u001b[0m\u001b[0mto_dict\u001b[0m\u001b[0;34m(\u001b[0m\u001b[0;34m)\u001b[0m\u001b[0;34m\u001b[0m\u001b[0;34m\u001b[0m\u001b[0m\n\u001b[0;32m----> 3\u001b[0;31m   \u001b[0ma\u001b[0m\u001b[0;34m.\u001b[0m\u001b[0mtime_manager\u001b[0m\u001b[0;34m(\u001b[0m\u001b[0mtask\u001b[0m\u001b[0;34m)\u001b[0m\u001b[0;34m\u001b[0m\u001b[0;34m\u001b[0m\u001b[0m\n\u001b[0m\u001b[1;32m      4\u001b[0m   \u001b[0ma\u001b[0m\u001b[0;34m.\u001b[0m\u001b[0mdispatch\u001b[0m\u001b[0;34m(\u001b[0m\u001b[0mtask\u001b[0m\u001b[0;34m)\u001b[0m\u001b[0;34m\u001b[0m\u001b[0;34m\u001b[0m\u001b[0m\n",
            "\u001b[0;32m<ipython-input-149-dc0b721b1dae>\u001b[0m in \u001b[0;36mtime_manager\u001b[0;34m(self, task)\u001b[0m\n\u001b[1;32m     52\u001b[0m             \u001b[0mself\u001b[0m\u001b[0;34m.\u001b[0m\u001b[0mservers\u001b[0m\u001b[0;34m[\u001b[0m\u001b[0mi\u001b[0m\u001b[0;34m]\u001b[0m\u001b[0;34m.\u001b[0m\u001b[0mqueue\u001b[0m\u001b[0;34m.\u001b[0m\u001b[0mpop\u001b[0m\u001b[0;34m(\u001b[0m\u001b[0;36m0\u001b[0m\u001b[0;34m)\u001b[0m\u001b[0;34m\u001b[0m\u001b[0;34m\u001b[0m\u001b[0m\n\u001b[1;32m     53\u001b[0m             \u001b[0maccomp\u001b[0m \u001b[0;34m=\u001b[0m \u001b[0mtimestamp\u001b[0m \u001b[0;34m+\u001b[0m \u001b[0md\u001b[0m\u001b[0;34m\u001b[0m\u001b[0;34m\u001b[0m\u001b[0m\n\u001b[0;32m---> 54\u001b[0;31m             \u001b[0md\u001b[0m \u001b[0;34m=\u001b[0m \u001b[0minfo\u001b[0m\u001b[0;34m[\u001b[0m\u001b[0;36m0\u001b[0m\u001b[0;34m]\u001b[0m\u001b[0;34m[\u001b[0m\u001b[0;34m'service_time'\u001b[0m\u001b[0;34m]\u001b[0m \u001b[0;34m-\u001b[0m \u001b[0mdelta\u001b[0m\u001b[0;34m\u001b[0m\u001b[0;34m\u001b[0m\u001b[0m\n\u001b[0m\u001b[1;32m     55\u001b[0m             \u001b[0mself\u001b[0m\u001b[0;34m.\u001b[0m\u001b[0mjob_controller\u001b[0m\u001b[0;34m[\u001b[0m\u001b[0mjob\u001b[0m\u001b[0;34m]\u001b[0m\u001b[0;34m[\u001b[0m\u001b[0;34m'Ntasks'\u001b[0m\u001b[0;34m]\u001b[0m \u001b[0;34m-=\u001b[0m \u001b[0;36m1\u001b[0m\u001b[0;34m\u001b[0m\u001b[0;34m\u001b[0m\u001b[0m\n\u001b[1;32m     56\u001b[0m             \u001b[0;32mif\u001b[0m \u001b[0maccomp\u001b[0m \u001b[0;34m>\u001b[0m \u001b[0mself\u001b[0m\u001b[0;34m.\u001b[0m\u001b[0mjob_controller\u001b[0m\u001b[0;34m[\u001b[0m\u001b[0mjob\u001b[0m\u001b[0;34m]\u001b[0m\u001b[0;34m[\u001b[0m\u001b[0;34m'completion'\u001b[0m\u001b[0;34m]\u001b[0m\u001b[0;34m:\u001b[0m\u001b[0;34m\u001b[0m\u001b[0;34m\u001b[0m\u001b[0m\n",
            "\u001b[0;31mIndexError\u001b[0m: list index out of range"
          ]
        }
      ]
    },
    {
      "cell_type": "code",
      "source": [
        "[k for k in range(a.N) if len(a.servers[k].queue)>0]"
      ],
      "metadata": {
        "colab": {
          "base_uri": "https://localhost:8080/"
        },
        "id": "NgYdLMWKsvDs",
        "outputId": "bde1f963-395f-4ad8-cba4-2e560a8c07d5"
      },
      "execution_count": null,
      "outputs": [
        {
          "output_type": "execute_result",
          "data": {
            "text/plain": [
              "[0, 1, 2, 3, 4, 5, 6, 7, 8, 9, 10, 11, 12, 13, 14, 15, 16, 17, 18, 19]"
            ]
          },
          "metadata": {},
          "execution_count": 148
        }
      ]
    },
    {
      "cell_type": "code",
      "source": [
        "a.servers[2].queue"
      ],
      "metadata": {
        "colab": {
          "base_uri": "https://localhost:8080/"
        },
        "id": "6Go-YBgIkk4g",
        "outputId": "e6c2719d-b619-47c7-dbba-2d22af6ecf52"
      },
      "execution_count": null,
      "outputs": [
        {
          "output_type": "execute_result",
          "data": {
            "text/plain": [
              "[{'id': '375000670586_0',\n",
              "  'arrival_time': 608994453,\n",
              "  'service_time': 241.75643920898398,\n",
              "  'waiting_time': 0}]"
            ]
          },
          "metadata": {},
          "execution_count": 147
        }
      ]
    },
    {
      "cell_type": "code",
      "source": [
        "timestamp = data.iloc[0,2]\n",
        "for i in range(1, data.shape[0]):\n",
        "  temp = data.iloc[i,2]\n",
        "  delta = timestamp - temp\n",
        "  timestamp = temp "
      ],
      "metadata": {
        "id": "VXA1deMfUSXr",
        "colab": {
          "base_uri": "https://localhost:8080/",
          "height": 200
        },
        "outputId": "3d028646-4ec7-4656-d198-372a5948ce61"
      },
      "execution_count": null,
      "outputs": [
        {
          "output_type": "error",
          "ename": "KeyboardInterrupt",
          "evalue": "ignored",
          "traceback": [
            "\u001b[0;31m---------------------------------------------------------------------------\u001b[0m",
            "\u001b[0;31mKeyboardInterrupt\u001b[0m                         Traceback (most recent call last)",
            "\u001b[0;32m<ipython-input-7-7dc663b60cdb>\u001b[0m in \u001b[0;36m<cell line: 2>\u001b[0;34m()\u001b[0m\n\u001b[1;32m      3\u001b[0m   \u001b[0mtemp\u001b[0m \u001b[0;34m=\u001b[0m \u001b[0mdata\u001b[0m\u001b[0;34m.\u001b[0m\u001b[0miloc\u001b[0m\u001b[0;34m[\u001b[0m\u001b[0mi\u001b[0m\u001b[0;34m,\u001b[0m\u001b[0;36m2\u001b[0m\u001b[0;34m]\u001b[0m\u001b[0;34m\u001b[0m\u001b[0;34m\u001b[0m\u001b[0m\n\u001b[1;32m      4\u001b[0m   \u001b[0mdelta\u001b[0m \u001b[0;34m=\u001b[0m \u001b[0mtimestamp\u001b[0m \u001b[0;34m-\u001b[0m \u001b[0mtemp\u001b[0m\u001b[0;34m\u001b[0m\u001b[0;34m\u001b[0m\u001b[0m\n\u001b[0;32m----> 5\u001b[0;31m   \u001b[0mtimestamp\u001b[0m \u001b[0;34m=\u001b[0m \u001b[0mtemp\u001b[0m\u001b[0;34m\u001b[0m\u001b[0;34m\u001b[0m\u001b[0m\n\u001b[0m",
            "\u001b[0;31mKeyboardInterrupt\u001b[0m: "
          ]
        }
      ]
    },
    {
      "cell_type": "code",
      "source": [],
      "metadata": {
        "id": "D7oFuIPrenX0"
      },
      "execution_count": null,
      "outputs": []
    }
  ]
}