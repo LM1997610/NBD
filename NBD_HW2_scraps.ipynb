{
  "nbformat": 4,
  "nbformat_minor": 0,
  "metadata": {
    "colab": {
      "provenance": [],
      "include_colab_link": true
    },
    "kernelspec": {
      "name": "python3",
      "display_name": "Python 3"
    },
    "language_info": {
      "name": "python"
    }
  },
  "cells": [
    {
      "cell_type": "markdown",
      "metadata": {
        "id": "view-in-github",
        "colab_type": "text"
      },
      "source": [
        "<a href=\"https://colab.research.google.com/github/LM1997610/Networking-for-Big-Data/blob/main/NBD_HW2_scraps.ipynb\" target=\"_parent\"><img src=\"https://colab.research.google.com/assets/colab-badge.svg\" alt=\"Open In Colab\"/></a>"
      ]
    },
    {
      "cell_type": "code",
      "execution_count": null,
      "metadata": {
        "id": "J8rhH0Vq9rIn"
      },
      "outputs": [],
      "source": [
        "import numpy as np\n",
        "\n",
        "class LWLDispatcher:\n",
        "  def __init__(self, N):\n",
        "    self.N = N\n",
        "    self.controller = DispatcherControl(N)\n",
        "    self.servers = [FCFS(id) for id in range(0,N)]\n",
        "  def dispatch(self, task):\n",
        "    workload = [sum(list(self.controller.details[s].values()))\n",
        "                for s in range(0,self.N)]\n",
        "    pointed = np.argmin(workload)\n",
        "    self.servers[pointed].append(task)\n",
        "\n",
        "class FCFS:\n",
        "  def __init__(self, id):\n",
        "    self.server_id = id \n",
        "    self.memory =  1 \n",
        "    self.queue =  []  \n",
        "    self.queue_status = []  \n",
        "    self.workload = 0 \n",
        "    #self.list_done_task = []   # for messages with dispatcher \n",
        "\n",
        "  def add_to_queue(self, dizionario : dict, µ = 0.1 ):\n",
        "    new_job_id = str(int(dizionario[\"Job_ID\"]))+ \"_\" + str(int(dizionario[\"Task_ID\"]))\n",
        "    arrival_time_task = int(dizionario[\"Arrival_Time\"])\n",
        "    running_time_task = (dizionario[\"CPU\"]/ µ)*1000     # from seconds to milliseconds\n",
        "    a_dict = {\"id\": new_job_id, \"arrival_time\": arrival_time_task, \"service_time\" : running_time_task}\n",
        "    if self.memory > dizionario[\"Memory\"]: \n",
        "      self.memory -= dizionario[\"Memory\"]\n",
        "      self.queue.append(a_dict)   ### and do some work     \n",
        "    else: print(\"...not enough space in memory\")  ## and think what to do\n",
        "  pass\n",
        "\n",
        "class JobControl:\n",
        "  pass\n",
        "\n",
        "class DispatcherControl:\n",
        "\n",
        "  def __init__(self, N):\n",
        "    self.servers_number = N\n",
        "    self.status = {s:0 for s in range(0,N)}\n",
        "    self.queue_length = {s:0 for s in range(0,N)}\n",
        "    self.memory_status = {s:1 for s in range(0,N)}\n",
        "    self.details = {s:({},0) for s in range(0,N)}\n",
        "\n",
        "  def is_idle(self, server): \n",
        "    return self.status[server] == 0\n",
        "\n",
        "  def memory_constraint(self, server, task_memory):\n",
        "    return self.memory_status[server] - task_memory > 0"
      ]
    },
    {
      "cell_type": "code",
      "source": [
        "disp = LWLDispatcher(64)"
      ],
      "metadata": {
        "id": "FgWrge_iB2WD"
      },
      "execution_count": null,
      "outputs": []
    },
    {
      "cell_type": "code",
      "source": [],
      "metadata": {
        "id": "nr4pkKvjCfa1"
      },
      "execution_count": null,
      "outputs": []
    }
  ]
}