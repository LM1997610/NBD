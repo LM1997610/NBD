{
 "cells": [
  {
   "cell_type": "markdown",
   "id": "e9336cec",
   "metadata": {
    "tags": []
   },
   "source": [
    "# NBD | Data Center"
   ]
  },
  {
   "cell_type": "markdown",
   "id": "3fc17bcf-1090-4fb2-839a-154f705d09e2",
   "metadata": {
    "tags": []
   },
   "source": [
    "## Challenge #2 → *workload balancing*\n",
    "\n",
    "Group composition:\n",
    "\n",
    "- Gian Alvin Guico : 2033024\n",
    "- Leonardo Di Nino : 1919479\n",
    "- Luca Mazzucco : 1997610\n",
    "\n",
    "Final report [here](https://nbviewer.org/github/LM1997610/Networking-for-Big-Data/blob/main/NBD_CH2_Report.pdf)"
   ]
  },
  {
   "cell_type": "code",
   "execution_count": 1,
   "id": "34e4387e",
   "metadata": {},
   "outputs": [],
   "source": [
    "%%capture\n",
    "!pip install tabulate\n",
    "\n",
    "import numpy as np\n",
    "import pandas as pd\n",
    "from tqdm import tqdm\n",
    "from tabulate import tabulate\n",
    "\n",
    "from matplotlib import pyplot as plt"
   ]
  },
  {
   "cell_type": "code",
   "execution_count": 3,
   "id": "c967e870",
   "metadata": {},
   "outputs": [
    {
     "name": "stdout",
     "output_type": "stream",
     "text": [
      "\n",
      "data.shape: (2282872, 5)\n",
      "\n"
     ]
    },
    {
     "data": {
      "text/html": [
       "<div>\n",
       "<style scoped>\n",
       "    .dataframe tbody tr th:only-of-type {\n",
       "        vertical-align: middle;\n",
       "    }\n",
       "\n",
       "    .dataframe tbody tr th {\n",
       "        vertical-align: top;\n",
       "    }\n",
       "\n",
       "    .dataframe thead th {\n",
       "        text-align: right;\n",
       "    }\n",
       "</style>\n",
       "<table border=\"1\" class=\"dataframe\">\n",
       "  <thead>\n",
       "    <tr style=\"text-align: right;\">\n",
       "      <th></th>\n",
       "      <th>Job_ID</th>\n",
       "      <th>Task_ID</th>\n",
       "      <th>Arrival_Time</th>\n",
       "      <th>CPU</th>\n",
       "      <th>Memory</th>\n",
       "    </tr>\n",
       "  </thead>\n",
       "  <tbody>\n",
       "    <tr>\n",
       "      <th>0</th>\n",
       "      <td>375000667413</td>\n",
       "      <td>0</td>\n",
       "      <td>0.000000</td>\n",
       "      <td>0.041851</td>\n",
       "      <td>0.001169</td>\n",
       "    </tr>\n",
       "    <tr>\n",
       "      <th>1</th>\n",
       "      <td>375000669289</td>\n",
       "      <td>0</td>\n",
       "      <td>3.386741</td>\n",
       "      <td>0.024968</td>\n",
       "      <td>0.001179</td>\n",
       "    </tr>\n",
       "    <tr>\n",
       "      <th>2</th>\n",
       "      <td>375000670586</td>\n",
       "      <td>0</td>\n",
       "      <td>5.968153</td>\n",
       "      <td>0.024176</td>\n",
       "      <td>0.001173</td>\n",
       "    </tr>\n",
       "    <tr>\n",
       "      <th>3</th>\n",
       "      <td>375000670588</td>\n",
       "      <td>0</td>\n",
       "      <td>5.968166</td>\n",
       "      <td>0.019552</td>\n",
       "      <td>0.001163</td>\n",
       "    </tr>\n",
       "    <tr>\n",
       "      <th>4</th>\n",
       "      <td>375000670590</td>\n",
       "      <td>0</td>\n",
       "      <td>6.016603</td>\n",
       "      <td>0.028044</td>\n",
       "      <td>0.001179</td>\n",
       "    </tr>\n",
       "  </tbody>\n",
       "</table>\n",
       "</div>"
      ],
      "text/plain": [
       "         Job_ID  Task_ID  Arrival_Time       CPU    Memory\n",
       "0  375000667413        0      0.000000  0.041851  0.001169\n",
       "1  375000669289        0      3.386741  0.024968  0.001179\n",
       "2  375000670586        0      5.968153  0.024176  0.001173\n",
       "3  375000670588        0      5.968166  0.019552  0.001163\n",
       "4  375000670590        0      6.016603  0.028044  0.001179"
      ]
     },
     "metadata": {},
     "output_type": "display_data"
    }
   ],
   "source": [
    "data = pd.read_csv('Cell_a.zip')\n",
    "\n",
    "data = data[data['CPU']!=0]\n",
    "data['Arrival_Time'] = data['Arrival_Time']/1e6\n",
    "data['Arrival_Time'] = data['Arrival_Time'] - data['Arrival_Time'].iloc[0] \n",
    "\n",
    "print(\"\\ndata.shape: {}\\n\".format(data.shape))\n",
    "display(data.head())"
   ]
  },
  {
   "cell_type": "code",
   "execution_count": 4,
   "id": "ba35f653",
   "metadata": {},
   "outputs": [],
   "source": [
    "# Constrains\n",
    "\n",
    "N = 64\n",
    "µ = 0.1"
   ]
  },
  {
   "cell_type": "markdown",
   "id": "1a71f899",
   "metadata": {},
   "source": [
    "--------------------------------------"
   ]
  },
  {
   "cell_type": "markdown",
   "id": "dd08cb3e",
   "metadata": {},
   "source": [
    "### Explorative data analysis"
   ]
  },
  {
   "cell_type": "code",
   "execution_count": 5,
   "id": "e656ecf6",
   "metadata": {},
   "outputs": [
    {
     "data": {
      "text/plain": [
       "count    2.282872e+06\n",
       "mean     4.042883e+00\n",
       "std      1.370927e+02\n",
       "min      9.536743e-07\n",
       "25%      2.730942e-02\n",
       "50%      7.698393e-02\n",
       "75%      2.746394e-01\n",
       "max      5.278707e+04\n",
       "Name: CPU, dtype: float64"
      ]
     },
     "execution_count": 5,
     "metadata": {},
     "output_type": "execute_result"
    }
   ],
   "source": [
    "data['CPU'].describe()"
   ]
  },
  {
   "cell_type": "markdown",
   "id": "a1d9dd13",
   "metadata": {},
   "source": [
    "Assuming an underlying bounded Pareto process for the task size, we wanted to estimate a maximum likelihood estimator for the value of 𝛼 through a repeated subsampling."
   ]
  },
  {
   "cell_type": "code",
   "execution_count": 6,
   "id": "2e6d95fc",
   "metadata": {},
   "outputs": [],
   "source": [
    "%%capture\n",
    "pip install distfit"
   ]
  },
  {
   "cell_type": "code",
   "execution_count": 7,
   "id": "5a8e6ae5",
   "metadata": {},
   "outputs": [],
   "source": [
    "from distfit import distfit"
   ]
  },
  {
   "cell_type": "code",
   "execution_count": 8,
   "id": "3cd4a3a0",
   "metadata": {},
   "outputs": [
    {
     "name": "stderr",
     "output_type": "stream",
     "text": [
      "100%|██████████| 1000/1000 [01:43<00:00,  9.66it/s]"
     ]
    },
    {
     "name": "stdout",
     "output_type": "stream",
     "text": [
      "\n",
      " alpha mean:  1.195256476921913\n"
     ]
    },
    {
     "name": "stderr",
     "output_type": "stream",
     "text": [
      "\n"
     ]
    }
   ],
   "source": [
    "alpha = []\n",
    "M = 1000\n",
    "S = 1000\n",
    "dist = distfit(distr='genpareto')\n",
    "cpu = np.array(data['CPU'])\n",
    "\n",
    "for i in tqdm(range(M)):\n",
    "    subsample = cpu[np.random.randint(0,len(cpu),size=S)]\n",
    "    alpha.append(dist.fit_transform(subsample, verbose = 0)['model']['params'][0])\n",
    "    \n",
    "print(\"\\n alpha mean: \", np.mean(alpha))"
   ]
  },
  {
   "cell_type": "markdown",
   "id": "8fd0aa7c",
   "metadata": {},
   "source": [
    "Retrieving some statistics"
   ]
  },
  {
   "cell_type": "code",
   "execution_count": 9,
   "id": "e80e48f3",
   "metadata": {},
   "outputs": [],
   "source": [
    "global_var = data['CPU'].var()\n",
    "\n",
    "min_load = data['CPU'].min()\n",
    "max_load = data['CPU'].max()\n",
    "\n",
    "ranging = (min_load, round(max_load,3))"
   ]
  },
  {
   "cell_type": "code",
   "execution_count": 10,
   "id": "12eada8c",
   "metadata": {},
   "outputs": [],
   "source": [
    "count = data.groupby('Job_ID')[\"Task_ID\"].count()\n",
    "data2 = data.merge(count, on='Job_ID')\n",
    "\n",
    "max_multi = data2[data2['Task_ID_y']!=0]['CPU'].max()\n",
    "min_multi = data2[data2['Task_ID_y']!=0]['CPU'].min()\n",
    "inner_multi_var = data2[data2['Task_ID_y']!=0]['CPU'].var()\n",
    "\n",
    "max_single = data2[data2['Task_ID_y']==1]['CPU'].max()\n",
    "min_single = data2[data2['Task_ID_y']==1]['CPU'].min()\n",
    "inner_single_var = data2[data2['Task_ID_y']==1]['CPU'].var()"
   ]
  },
  {
   "cell_type": "code",
   "execution_count": 11,
   "id": "d3733320",
   "metadata": {},
   "outputs": [
    {
     "name": "stdout",
     "output_type": "stream",
     "text": [
      "\n",
      "╒═════════════════════════════════════╤══════════════════════════════════╕\n",
      "│           Global variance           │            18794.413             │\n",
      "├─────────────────────────────────────┼──────────────────────────────────┤\n",
      "│                Range                │ [9.5367431640625e-07, 52787.072] │\n",
      "├─────────────────────────────────────┼──────────────────────────────────┤\n",
      "│    Fraction of single-task-jobs     │              0.948               │\n",
      "├─────────────────────────────────────┼──────────────────────────────────┤\n",
      "│     Fraction of multi-task-jobs     │              0.052               │\n",
      "├─────────────────────────────────────┼──────────────────────────────────┤\n",
      "│           Single-task max           │            52787.072             │\n",
      "├─────────────────────────────────────┼──────────────────────────────────┤\n",
      "│           Single-task min           │       9.5367431640625e-07        │\n",
      "├─────────────────────────────────────┼──────────────────────────────────┤\n",
      "│ Inner variance in single-task group │             17815.96             │\n",
      "├─────────────────────────────────────┼──────────────────────────────────┤\n",
      "│         Multi-task job max          │            52787.072             │\n",
      "├─────────────────────────────────────┼──────────────────────────────────┤\n",
      "│         Multi-task job min          │       9.5367431640625e-07        │\n",
      "├─────────────────────────────────────┼──────────────────────────────────┤\n",
      "│ Inner variance in multi-task group  │            18794.413             │\n",
      "╘═════════════════════════════════════╧══════════════════════════════════╛\n"
     ]
    }
   ],
   "source": [
    "a_N = pd.unique(data2['Job_ID']).shape[0]\n",
    "\n",
    "one_task = data2[data2['Task_ID_y']==1].shape[0]\n",
    "multi_task = data2[data2['Task_ID_y']>1].shape[0]\n",
    "\n",
    "stat = pd.Series({\n",
    "    'Global variance': round(global_var,3),\n",
    "    'Range':list(ranging),\n",
    "    'Fraction of single-task-jobs': round(one_task/a_N,3),\n",
    "    'Fraction of multi-task-jobs': round(1-one_task/a_N,3), \n",
    "    'Single-task max': round(max_single,3),\n",
    "    'Single-task min': min_single,\n",
    "    'Inner variance in single-task group': round(inner_single_var,3),\n",
    "    'Multi-task job max': round(max_multi,3),\n",
    "    'Multi-task job min': min_multi,\n",
    "    'Inner variance in multi-task group': round(inner_multi_var,3)})\n",
    "\n",
    "print()\n",
    "print(tabulate(stat.to_frame(), tablefmt=\"fancy_grid\", numalign='center', stralign=\"center\"))"
   ]
  },
  {
   "cell_type": "code",
   "execution_count": 12,
   "id": "8ca67853",
   "metadata": {},
   "outputs": [],
   "source": [
    "jobs = pd.unique(data['Job_ID'])\n",
    "temp = {job:k for (job,k) in zip(jobs, count)}\n",
    "\n",
    "multitask = [job for job in jobs if temp[job]>1]"
   ]
  },
  {
   "cell_type": "code",
   "execution_count": 13,
   "id": "cd9221ee-3761-434e-b327-6e8c8de2d7fb",
   "metadata": {
    "tags": []
   },
   "outputs": [],
   "source": [
    "new_stat = pd.Series({\n",
    "    'Variance of total CPU required':inner_multi_var,\n",
    "    'Max value for total CPU required':max_multi,\n",
    "    'Min value for total CPU required':min_multi})"
   ]
  },
  {
   "cell_type": "markdown",
   "id": "e6d962af",
   "metadata": {},
   "source": [
    "## Baseline implementation: \n",
    "**Least_Work_Left**  for dispatching and **First_Come_First_Service** for scheduling:\n",
    "\n",
    "<br>\n"
   ]
  },
  {
   "cell_type": "code",
   "execution_count": 14,
   "id": "50e04814",
   "metadata": {},
   "outputs": [],
   "source": [
    "from Dispatcher_LWL import Dispatcher"
   ]
  },
  {
   "cell_type": "code",
   "execution_count": 15,
   "id": "9608ac3c",
   "metadata": {},
   "outputs": [
    {
     "name": "stdout",
     "output_type": "stream",
     "text": [
      "\n",
      " Dispatcher → Least_Work_Left\n",
      "\n",
      " number of servers: 64 → First_Come_First_Service \n",
      "\n",
      "\t status: [0, 0, 0, 0, 0, 0, 0, 0, 0, 0, 0, 0, 0, 0, 0, 0, 0, 0, 0, 0 ...] \n",
      "\n",
      "\t wk_load: [0, 0, 0, 0, 0, 0, 0, 0, 0, 0, 0, 0, 0, 0, 0, 0, 0, 0, 0, 0 ...] \n",
      "\n",
      "\t memory: [1, 1, 1, 1, 1, 1, 1, 1, 1, 1, 1, 1, 1, 1, 1, 1, 1, 1, 1, 1 ...] \n",
      "\n",
      "\t queue: [] [] [] [] [] [] [] [] [] [] [] [] [] [] [] [] [] [] [] [] ...\n",
      "\n"
     ]
    }
   ],
   "source": [
    "baseline = Dispatcher(N, data[\"Arrival_Time\"].iloc[0])\n",
    "baseline.print_status()"
   ]
  },
  {
   "cell_type": "code",
   "execution_count": 16,
   "id": "e65ed5ab",
   "metadata": {},
   "outputs": [
    {
     "name": "stderr",
     "output_type": "stream",
     "text": [
      "100%|██████████| 2282872/2282872 [11:06<00:00, 3425.58it/s]\n"
     ]
    },
    {
     "name": "stdout",
     "output_type": "stream",
     "text": [
      "\n",
      " Closing 2 active server queues: [0, 1] → 2 tasks...  done ✓ \n",
      "\n"
     ]
    }
   ],
   "source": [
    "for i in tqdm(range(data.shape[0])):\n",
    "    \n",
    "    task = data.iloc[i].to_dict()\n",
    "    \n",
    "    baseline.queue_manager(task)\n",
    "    baseline.Least_Work_Left(task)\n",
    "    baseline.clock_update(task['Arrival_Time'])\n",
    "    \n",
    "baseline_df = baseline.Closing()"
   ]
  },
  {
   "cell_type": "code",
   "execution_count": 17,
   "id": "d3f72175",
   "metadata": {},
   "outputs": [
    {
     "name": "stdout",
     "output_type": "stream",
     "text": [
      "\n",
      "Baseline :\n",
      " Mean job_response_time: 27470.201\n",
      " Mean job_slow_down: 1203727.169\n"
     ]
    }
   ],
   "source": [
    "arrival_times = data.groupby('Job_ID')['Arrival_Time'].min()\n",
    "base_completion_times = baseline_df.groupby('Job')['Completion_Time'].max()\n",
    "\n",
    "base_job_response_times = np.array(base_completion_times)-np.array(arrival_times)\n",
    "base_mean_job = round(np.mean(base_job_response_times), 3)\n",
    "\n",
    "tot_cpu = data.groupby('Job_ID')['CPU'].sum() / µ\n",
    "base_slow_down = base_job_response_times/np.array(tot_cpu)\n",
    "base_mean_slow = round(np.mean(base_slow_down), 3)\n",
    "\n",
    "ut_coeffs = [sum(baseline.servers[i].details)/baseline.clock for i in range(N)]\n",
    "\n",
    "print(\"\\nBaseline :\")\n",
    "print(\" Mean job_response_time:\", base_mean_job)\n",
    "print(\" Mean job_slow_down:\", base_mean_slow)"
   ]
  },
  {
   "cell_type": "markdown",
   "id": "0fcc7b36",
   "metadata": {},
   "source": [
    "----------------------------------------------"
   ]
  },
  {
   "cell_type": "markdown",
   "id": "ab451a8e",
   "metadata": {
    "tags": []
   },
   "source": [
    "## Custom design: \n",
    "**Size-Interval Task Assignment-E (and LWL)** for dispatching and **First_Come_First_Service** for scheduling:\n",
    "\n",
    "<br>\n"
   ]
  },
  {
   "cell_type": "code",
   "execution_count": 18,
   "id": "729b0f3a",
   "metadata": {},
   "outputs": [
    {
     "name": "stdout",
     "output_type": "stream",
     "text": [
      "144209.119797647\n"
     ]
    }
   ],
   "source": [
    "X = data['CPU'].sort_values()\n",
    "\n",
    "quantum = sum(X)/64  # fill-up value for each chunk\n",
    "\n",
    "print(quantum)"
   ]
  },
  {
   "cell_type": "code",
   "execution_count": 19,
   "id": "02ddef2c",
   "metadata": {},
   "outputs": [
    {
     "name": "stderr",
     "output_type": "stream",
     "text": [
      "100%|██████████| 2282872/2282872 [00:01<00:00, 1751867.11it/s]\n"
     ]
    }
   ],
   "source": [
    "ls, cumsum, cluster = [], 0, 0\n",
    "\n",
    "for value in tqdm(X):\n",
    "    if cumsum + value <= int(quantum):\n",
    "        cumsum += value\n",
    "    else:\n",
    "        cumsum = 0\n",
    "        cluster+=1\n",
    "    \n",
    "    ls.append(cluster)\n",
    "\n",
    "sorted_df = data.sort_values('CPU')\n",
    "sorted_df['cumsum'] = ls\n",
    "data = sorted_df.sort_values('Job_ID')"
   ]
  },
  {
   "cell_type": "code",
   "execution_count": 20,
   "id": "af4cac57",
   "metadata": {},
   "outputs": [],
   "source": [
    "#data.groupby(\"cumsum\")[\"CPU\"].sum().plot(kind=\"bar\", alpha=0.75, rot=0);"
   ]
  },
  {
   "cell_type": "markdown",
   "id": "a9085510",
   "metadata": {},
   "source": [
    "--------------------------------------------"
   ]
  },
  {
   "cell_type": "code",
   "execution_count": 21,
   "id": "297753e9",
   "metadata": {},
   "outputs": [],
   "source": [
    "from Dispatcher_SITA import Size_Int_Task_Ass"
   ]
  },
  {
   "cell_type": "code",
   "execution_count": 22,
   "id": "b038bd14",
   "metadata": {},
   "outputs": [
    {
     "name": "stdout",
     "output_type": "stream",
     "text": [
      "\n",
      " Dispatcher → Size_Int_Task_Ass\n",
      "\n",
      " number of servers: 64 → First_Come_First_Service \n",
      "\n",
      "\t status: [0, 0, 0, 0, 0, 0, 0, 0, 0, 0, 0, 0, 0, 0, 0, 0, 0, 0, 0, 0 ...] \n",
      "\n",
      "\t wk_load: [0, 0, 0, 0, 0, 0, 0, 0, 0, 0, 0, 0, 0, 0, 0, 0, 0, 0, 0, 0 ...] \n",
      "\n",
      "\t memory: [1, 1, 1, 1, 1, 1, 1, 1, 1, 1, 1, 1, 1, 1, 1, 1, 1, 1, 1, 1 ...] \n",
      "\n",
      "\t queue: [] [] [] [] [] [] [] [] [] [] [] [] [] [] [] [] [] [] [] [] ...\n",
      "\n"
     ]
    }
   ],
   "source": [
    "costum =  Size_Int_Task_Ass(N, data[\"Arrival_Time\"].iloc[0])\n",
    "costum.print_status()"
   ]
  },
  {
   "cell_type": "code",
   "execution_count": 23,
   "id": "e873e0cb",
   "metadata": {},
   "outputs": [
    {
     "name": "stderr",
     "output_type": "stream",
     "text": [
      "100%|██████████| 2282872/2282872 [06:29<00:00, 5862.77it/s]\n"
     ]
    },
    {
     "name": "stdout",
     "output_type": "stream",
     "text": [
      "\n",
      " Closing 12 active server queues: [0, 1, 5, 6, 10, 11, 12, 46, 49, 51, 60, 62] → 2128 tasks...  done ✓ \n",
      "\n"
     ]
    }
   ],
   "source": [
    "for i in tqdm(range(data.shape[0])):\n",
    "    \n",
    "    task = data.iloc[i].to_dict()\n",
    "    \n",
    "    costum.queue_manager(task)\n",
    "    costum.SITA_dispatch(task)\n",
    "    costum.clock_update(task['Arrival_Time'])\n",
    "    \n",
    "costum_df = costum.Closing()   ## → 2128 tasks..."
   ]
  },
  {
   "cell_type": "code",
   "execution_count": 24,
   "id": "caaf0833",
   "metadata": {},
   "outputs": [
    {
     "name": "stdout",
     "output_type": "stream",
     "text": [
      "\n",
      "Costum :\n",
      " Mean job_response_time: 756.528\n",
      " Mean job_slow_down: 1614.606\n"
     ]
    }
   ],
   "source": [
    "#arrival_times = data.groupby('Job_ID')['Arrival_Time'].min()\n",
    "costum_completion_times = costum_df.groupby('Job')['Completion_Time'].max()\n",
    "\n",
    "costum_job_response_times = np.array(costum_completion_times )-np.array(arrival_times)\n",
    "costum_mean_job = round(np.mean(costum_job_response_times), 3)\n",
    "\n",
    "#tot_cpu = data.groupby('Job_ID')['CPU'].sum() / µ \n",
    "custum_slow_down = costum_job_response_times/np.array(tot_cpu)\n",
    "custum_mean_slow = round(np.mean(custum_slow_down), 3)\n",
    "\n",
    "c_ut_coeffs = [sum(costum.servers[i].details)/costum.clock for i in range(N)]\n",
    "\n",
    "print(\"\\nCostum :\")\n",
    "print(\" Mean job_response_time:\", costum_mean_job)\n",
    "print(\" Mean job_slow_down:\", custum_mean_slow)"
   ]
  },
  {
   "cell_type": "markdown",
   "id": "6c98a4c6-ba71-45a0-8cef-f5d5f48b7b88",
   "metadata": {},
   "source": [
    "## Results:"
   ]
  },
  {
   "cell_type": "code",
   "execution_count": null,
   "id": "ee4eb3ef-e34c-4198-a87c-430e65520fff",
   "metadata": {},
   "outputs": [],
   "source": [
    "from visualization import make_plots as mp"
   ]
  },
  {
   "cell_type": "code",
   "execution_count": 25,
   "id": "bb3f54b8",
   "metadata": {},
   "outputs": [
    {
     "data": {
      "image/png": "[encoded data removed]",
      "text/plain": [
       "<Figure size 1300x600 with 2 Axes>"
      ]
     },
     "metadata": {},
     "output_type": "display_data"
    }
   ],
   "source": [
    "mp.ecdf_plot(base_job_response_times, \n",
    "             costum_job_response_times, \n",
    "             base_slow_down, custum_slow_down)"
   ]
  },
  {
   "cell_type": "code",
   "execution_count": 29,
   "id": "1e0c7da9",
   "metadata": {},
   "outputs": [
    {
     "data": {
      "image/png": "[encoded data removed]",
      "text/plain": [
       "<Figure size 1300x600 with 2 Axes>"
      ]
     },
     "metadata": {},
     "output_type": "display_data"
    }
   ],
   "source": [
    "mp.coeff_plot(ut_coeffs, c_ut_coeffs)"
   ]
  },
  {
   "cell_type": "code",
   "execution_count": 27,
   "id": "74988de8",
   "metadata": {},
   "outputs": [],
   "source": [
    "base_m_load = 129\n",
    "cust_m_load = (1752627*7 + data.shape[0]-1752627)/data.shape[0]\n",
    "\n",
    "metrics = pd.DataFrame({\n",
    "    'Mean Job_Response_Time': [base_mean_job, costum_mean_job],\n",
    "    'Mean Job_Slow_Down': [base_mean_slow, custum_mean_slow],\n",
    "    'Mean Utilization': [np.mean(ut_coeffs), np.mean(c_ut_coeffs)],\n",
    "    'Mean Message_Load': [base_m_load, round(cust_m_load,3)]})\n",
    "\n",
    "metrics.index = ['Baseline','Custom']"
   ]
  },
  {
   "cell_type": "code",
   "execution_count": 28,
   "id": "f83cdf8d",
   "metadata": {},
   "outputs": [
    {
     "name": "stdout",
     "output_type": "stream",
     "text": [
      "\n",
      "╒══════════╤══════════════════════════╤══════════════════════╤════════════════════╤═════════════════════╕\n",
      "│          │  Mean Job_Response_Time  │  Mean Job_Slow_Down  │  Mean Utilization  │  Mean Message_Load  │\n",
      "╞══════════╪══════════════════════════╪══════════════════════╪════════════════════╪═════════════════════╡\n",
      "│ Baseline │         27470.2          │     1.20373e+06      │      0.538425      │         129         │\n",
      "├──────────┼──────────────────────────┼──────────────────────┼────────────────────┼─────────────────────┤\n",
      "│  Custom  │         756.528          │       1614.61        │      0.538425      │        5.606        │\n",
      "╘══════════╧══════════════════════════╧══════════════════════╧════════════════════╧═════════════════════╛\n"
     ]
    }
   ],
   "source": [
    "print()\n",
    "print(tabulate(metrics, tablefmt=\"fancy_grid\", headers= metrics.columns, numalign='center', stralign=\"center\"))"
   ]
  },
  {
   "cell_type": "markdown",
   "id": "690b2759-b010-4c42-bf4e-40bf9061abe6",
   "metadata": {},
   "source": [
    "## Analysis and comments:\n",
    "\n",
    "-  As we can see surely our analysis has been experimentally confirmed: the SITA-E with FCFS servers strongly improved time performances.\\\n",
    "   The right tail of the distributions in the custom case is very weaker.\n",
    "\n",
    "- For what concerns utilization we didn’t achieved any improvement: this is due to the strong balancing we induced that sets every server on the same amount of work time-wise speaking. The sub-LWL we designed over server 0, 62 and 63 surely affects their utilization.\n",
    "\n",
    "- Message load in the baseline case is a constant for all task, since 128 messages are needed to retrieve the least amount of work left (64 queries and 64 answers), plus 1 message to send the task; in the custom scenario we have to average between pure SITA where we only need 1 message and the sub-LWL where we need 7 messages for task (3 queries over server 0, 62 and 63, 3 answers and 1 task-message)\n",
    "\n",
    "- "
   ]
  },
  {
   "cell_type": "code",
   "execution_count": null,
   "id": "ade420d4-5c5f-4799-b3d2-fb043e5d360a",
   "metadata": {},
   "outputs": [],
   "source": []
  },
  {
   "cell_type": "code",
   "execution_count": null,
   "id": "8b78b39d-6f24-4424-96cc-034a1ef81581",
   "metadata": {},
   "outputs": [],
   "source": []
  }
 ],
 "metadata": {
  "kernelspec": {
   "display_name": "Python 3 (ipykernel)",
   "language": "python",
   "name": "python3"
  },
  "language_info": {
   "codemirror_mode": {
    "name": "ipython",
    "version": 3
   },
   "file_extension": ".py",
   "mimetype": "text/x-python",
   "name": "python",
   "nbconvert_exporter": "python",
   "pygments_lexer": "ipython3",
   "version": "3.9.7"
  },
  "toc-showcode": false
 },
 "nbformat": 4,
 "nbformat_minor": 5
}
