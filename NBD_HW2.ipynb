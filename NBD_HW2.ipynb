{
  "nbformat": 4,
  "nbformat_minor": 0,
  "metadata": {
    "colab": {
      "provenance": [],
      "include_colab_link": true
    },
    "kernelspec": {
      "name": "python3",
      "display_name": "Python 3"
    },
    "language_info": {
      "name": "python"
    },
    "widgets": {
      "application/vnd.jupyter.widget-state+json": {
        "ac389df45f8348b8abf2d74d42dc1179": {
          "model_module": "@jupyter-widgets/controls",
          "model_name": "HBoxModel",
          "model_module_version": "1.5.0",
          "state": {
            "_dom_classes": [],
            "_model_module": "@jupyter-widgets/controls",
            "_model_module_version": "1.5.0",
            "_model_name": "HBoxModel",
            "_view_count": null,
            "_view_module": "@jupyter-widgets/controls",
            "_view_module_version": "1.5.0",
            "_view_name": "HBoxView",
            "box_style": "",
            "children": [
              "IPY_MODEL_f5881ba1ad15490bbbf84f6f056cc985",
              "IPY_MODEL_33a6ec30dab940fba8f7915862ed9ab5",
              "IPY_MODEL_1c5e25d5ae7d4081ac1af29063af0f1a"
            ],
            "layout": "IPY_MODEL_7c2f540fccfe48bc95c271e30c6f8007"
          }
        },
        "f5881ba1ad15490bbbf84f6f056cc985": {
          "model_module": "@jupyter-widgets/controls",
          "model_name": "HTMLModel",
          "model_module_version": "1.5.0",
          "state": {
            "_dom_classes": [],
            "_model_module": "@jupyter-widgets/controls",
            "_model_module_version": "1.5.0",
            "_model_name": "HTMLModel",
            "_view_count": null,
            "_view_module": "@jupyter-widgets/controls",
            "_view_module_version": "1.5.0",
            "_view_name": "HTMLView",
            "description": "",
            "description_tooltip": null,
            "layout": "IPY_MODEL_8b46c2dec74941209f0550e381d0ad85",
            "placeholder": "​",
            "style": "IPY_MODEL_7553aaf0adc644108d6c735b206b3850",
            "value": "100%"
          }
        },
        "33a6ec30dab940fba8f7915862ed9ab5": {
          "model_module": "@jupyter-widgets/controls",
          "model_name": "FloatProgressModel",
          "model_module_version": "1.5.0",
          "state": {
            "_dom_classes": [],
            "_model_module": "@jupyter-widgets/controls",
            "_model_module_version": "1.5.0",
            "_model_name": "FloatProgressModel",
            "_view_count": null,
            "_view_module": "@jupyter-widgets/controls",
            "_view_module_version": "1.5.0",
            "_view_name": "ProgressView",
            "bar_style": "success",
            "description": "",
            "description_tooltip": null,
            "layout": "IPY_MODEL_4fa3158ca8c54048a361ff6a383b247d",
            "max": 2329133,
            "min": 0,
            "orientation": "horizontal",
            "style": "IPY_MODEL_1e8fdbf5828c49d1b59cd7887538a10f",
            "value": 2329133
          }
        },
        "1c5e25d5ae7d4081ac1af29063af0f1a": {
          "model_module": "@jupyter-widgets/controls",
          "model_name": "HTMLModel",
          "model_module_version": "1.5.0",
          "state": {
            "_dom_classes": [],
            "_model_module": "@jupyter-widgets/controls",
            "_model_module_version": "1.5.0",
            "_model_name": "HTMLModel",
            "_view_count": null,
            "_view_module": "@jupyter-widgets/controls",
            "_view_module_version": "1.5.0",
            "_view_name": "HTMLView",
            "description": "",
            "description_tooltip": null,
            "layout": "IPY_MODEL_ff3ba0156bf041bf83563d5eb0f9298a",
            "placeholder": "​",
            "style": "IPY_MODEL_94d18672b19a47e8bf587d330047521e",
            "value": " 2329133/2329133 [03:52&lt;00:00, 10870.35it/s]"
          }
        },
        "7c2f540fccfe48bc95c271e30c6f8007": {
          "model_module": "@jupyter-widgets/base",
          "model_name": "LayoutModel",
          "model_module_version": "1.2.0",
          "state": {
            "_model_module": "@jupyter-widgets/base",
            "_model_module_version": "1.2.0",
            "_model_name": "LayoutModel",
            "_view_count": null,
            "_view_module": "@jupyter-widgets/base",
            "_view_module_version": "1.2.0",
            "_view_name": "LayoutView",
            "align_content": null,
            "align_items": null,
            "align_self": null,
            "border": null,
            "bottom": null,
            "display": null,
            "flex": null,
            "flex_flow": null,
            "grid_area": null,
            "grid_auto_columns": null,
            "grid_auto_flow": null,
            "grid_auto_rows": null,
            "grid_column": null,
            "grid_gap": null,
            "grid_row": null,
            "grid_template_areas": null,
            "grid_template_columns": null,
            "grid_template_rows": null,
            "height": null,
            "justify_content": null,
            "justify_items": null,
            "left": null,
            "margin": null,
            "max_height": null,
            "max_width": null,
            "min_height": null,
            "min_width": null,
            "object_fit": null,
            "object_position": null,
            "order": null,
            "overflow": null,
            "overflow_x": null,
            "overflow_y": null,
            "padding": null,
            "right": null,
            "top": null,
            "visibility": null,
            "width": null
          }
        },
        "8b46c2dec74941209f0550e381d0ad85": {
          "model_module": "@jupyter-widgets/base",
          "model_name": "LayoutModel",
          "model_module_version": "1.2.0",
          "state": {
            "_model_module": "@jupyter-widgets/base",
            "_model_module_version": "1.2.0",
            "_model_name": "LayoutModel",
            "_view_count": null,
            "_view_module": "@jupyter-widgets/base",
            "_view_module_version": "1.2.0",
            "_view_name": "LayoutView",
            "align_content": null,
            "align_items": null,
            "align_self": null,
            "border": null,
            "bottom": null,
            "display": null,
            "flex": null,
            "flex_flow": null,
            "grid_area": null,
            "grid_auto_columns": null,
            "grid_auto_flow": null,
            "grid_auto_rows": null,
            "grid_column": null,
            "grid_gap": null,
            "grid_row": null,
            "grid_template_areas": null,
            "grid_template_columns": null,
            "grid_template_rows": null,
            "height": null,
            "justify_content": null,
            "justify_items": null,
            "left": null,
            "margin": null,
            "max_height": null,
            "max_width": null,
            "min_height": null,
            "min_width": null,
            "object_fit": null,
            "object_position": null,
            "order": null,
            "overflow": null,
            "overflow_x": null,
            "overflow_y": null,
            "padding": null,
            "right": null,
            "top": null,
            "visibility": null,
            "width": null
          }
        },
        "7553aaf0adc644108d6c735b206b3850": {
          "model_module": "@jupyter-widgets/controls",
          "model_name": "DescriptionStyleModel",
          "model_module_version": "1.5.0",
          "state": {
            "_model_module": "@jupyter-widgets/controls",
            "_model_module_version": "1.5.0",
            "_model_name": "DescriptionStyleModel",
            "_view_count": null,
            "_view_module": "@jupyter-widgets/base",
            "_view_module_version": "1.2.0",
            "_view_name": "StyleView",
            "description_width": ""
          }
        },
        "4fa3158ca8c54048a361ff6a383b247d": {
          "model_module": "@jupyter-widgets/base",
          "model_name": "LayoutModel",
          "model_module_version": "1.2.0",
          "state": {
            "_model_module": "@jupyter-widgets/base",
            "_model_module_version": "1.2.0",
            "_model_name": "LayoutModel",
            "_view_count": null,
            "_view_module": "@jupyter-widgets/base",
            "_view_module_version": "1.2.0",
            "_view_name": "LayoutView",
            "align_content": null,
            "align_items": null,
            "align_self": null,
            "border": null,
            "bottom": null,
            "display": null,
            "flex": null,
            "flex_flow": null,
            "grid_area": null,
            "grid_auto_columns": null,
            "grid_auto_flow": null,
            "grid_auto_rows": null,
            "grid_column": null,
            "grid_gap": null,
            "grid_row": null,
            "grid_template_areas": null,
            "grid_template_columns": null,
            "grid_template_rows": null,
            "height": null,
            "justify_content": null,
            "justify_items": null,
            "left": null,
            "margin": null,
            "max_height": null,
            "max_width": null,
            "min_height": null,
            "min_width": null,
            "object_fit": null,
            "object_position": null,
            "order": null,
            "overflow": null,
            "overflow_x": null,
            "overflow_y": null,
            "padding": null,
            "right": null,
            "top": null,
            "visibility": null,
            "width": null
          }
        },
        "1e8fdbf5828c49d1b59cd7887538a10f": {
          "model_module": "@jupyter-widgets/controls",
          "model_name": "ProgressStyleModel",
          "model_module_version": "1.5.0",
          "state": {
            "_model_module": "@jupyter-widgets/controls",
            "_model_module_version": "1.5.0",
            "_model_name": "ProgressStyleModel",
            "_view_count": null,
            "_view_module": "@jupyter-widgets/base",
            "_view_module_version": "1.2.0",
            "_view_name": "StyleView",
            "bar_color": null,
            "description_width": ""
          }
        },
        "ff3ba0156bf041bf83563d5eb0f9298a": {
          "model_module": "@jupyter-widgets/base",
          "model_name": "LayoutModel",
          "model_module_version": "1.2.0",
          "state": {
            "_model_module": "@jupyter-widgets/base",
            "_model_module_version": "1.2.0",
            "_model_name": "LayoutModel",
            "_view_count": null,
            "_view_module": "@jupyter-widgets/base",
            "_view_module_version": "1.2.0",
            "_view_name": "LayoutView",
            "align_content": null,
            "align_items": null,
            "align_self": null,
            "border": null,
            "bottom": null,
            "display": null,
            "flex": null,
            "flex_flow": null,
            "grid_area": null,
            "grid_auto_columns": null,
            "grid_auto_flow": null,
            "grid_auto_rows": null,
            "grid_column": null,
            "grid_gap": null,
            "grid_row": null,
            "grid_template_areas": null,
            "grid_template_columns": null,
            "grid_template_rows": null,
            "height": null,
            "justify_content": null,
            "justify_items": null,
            "left": null,
            "margin": null,
            "max_height": null,
            "max_width": null,
            "min_height": null,
            "min_width": null,
            "object_fit": null,
            "object_position": null,
            "order": null,
            "overflow": null,
            "overflow_x": null,
            "overflow_y": null,
            "padding": null,
            "right": null,
            "top": null,
            "visibility": null,
            "width": null
          }
        },
        "94d18672b19a47e8bf587d330047521e": {
          "model_module": "@jupyter-widgets/controls",
          "model_name": "DescriptionStyleModel",
          "model_module_version": "1.5.0",
          "state": {
            "_model_module": "@jupyter-widgets/controls",
            "_model_module_version": "1.5.0",
            "_model_name": "DescriptionStyleModel",
            "_view_count": null,
            "_view_module": "@jupyter-widgets/base",
            "_view_module_version": "1.2.0",
            "_view_name": "StyleView",
            "description_width": ""
          }
        },
        "347e7606fbb345a88d3d159aaa85e574": {
          "model_module": "@jupyter-widgets/controls",
          "model_name": "HBoxModel",
          "model_module_version": "1.5.0",
          "state": {
            "_dom_classes": [],
            "_model_module": "@jupyter-widgets/controls",
            "_model_module_version": "1.5.0",
            "_model_name": "HBoxModel",
            "_view_count": null,
            "_view_module": "@jupyter-widgets/controls",
            "_view_module_version": "1.5.0",
            "_view_name": "HBoxView",
            "box_style": "",
            "children": [
              "IPY_MODEL_40b7a5e0283f46fdb3b33c3c9c723235",
              "IPY_MODEL_4899ed7ca9c74c02b7f193c113f0384b",
              "IPY_MODEL_48d747d7667649238634976ace458229"
            ],
            "layout": "IPY_MODEL_b2ec7829749145c1a46faf73d647116c"
          }
        },
        "40b7a5e0283f46fdb3b33c3c9c723235": {
          "model_module": "@jupyter-widgets/controls",
          "model_name": "HTMLModel",
          "model_module_version": "1.5.0",
          "state": {
            "_dom_classes": [],
            "_model_module": "@jupyter-widgets/controls",
            "_model_module_version": "1.5.0",
            "_model_name": "HTMLModel",
            "_view_count": null,
            "_view_module": "@jupyter-widgets/controls",
            "_view_module_version": "1.5.0",
            "_view_name": "HTMLView",
            "description": "",
            "description_tooltip": null,
            "layout": "IPY_MODEL_1c18fc56f18b401c99fb3cc7b9477a08",
            "placeholder": "​",
            "style": "IPY_MODEL_81d56008c519445f8395056e9c1029b6",
            "value": "100%"
          }
        },
        "4899ed7ca9c74c02b7f193c113f0384b": {
          "model_module": "@jupyter-widgets/controls",
          "model_name": "FloatProgressModel",
          "model_module_version": "1.5.0",
          "state": {
            "_dom_classes": [],
            "_model_module": "@jupyter-widgets/controls",
            "_model_module_version": "1.5.0",
            "_model_name": "FloatProgressModel",
            "_view_count": null,
            "_view_module": "@jupyter-widgets/controls",
            "_view_module_version": "1.5.0",
            "_view_name": "ProgressView",
            "bar_style": "success",
            "description": "",
            "description_tooltip": null,
            "layout": "IPY_MODEL_ff52c6f5900f4327a0ca2f7e3195491d",
            "max": 64,
            "min": 0,
            "orientation": "horizontal",
            "style": "IPY_MODEL_4b25f3e5be5242ebbe141ddc7cb734b5",
            "value": 64
          }
        },
        "48d747d7667649238634976ace458229": {
          "model_module": "@jupyter-widgets/controls",
          "model_name": "HTMLModel",
          "model_module_version": "1.5.0",
          "state": {
            "_dom_classes": [],
            "_model_module": "@jupyter-widgets/controls",
            "_model_module_version": "1.5.0",
            "_model_name": "HTMLModel",
            "_view_count": null,
            "_view_module": "@jupyter-widgets/controls",
            "_view_module_version": "1.5.0",
            "_view_name": "HTMLView",
            "description": "",
            "description_tooltip": null,
            "layout": "IPY_MODEL_a3fd17afb5b842fb9a977f8caf6409d5",
            "placeholder": "​",
            "style": "IPY_MODEL_fc03f652d36a48b48bfdb553203eb6d2",
            "value": " 64/64 [00:19&lt;00:00,  3.12it/s]"
          }
        },
        "b2ec7829749145c1a46faf73d647116c": {
          "model_module": "@jupyter-widgets/base",
          "model_name": "LayoutModel",
          "model_module_version": "1.2.0",
          "state": {
            "_model_module": "@jupyter-widgets/base",
            "_model_module_version": "1.2.0",
            "_model_name": "LayoutModel",
            "_view_count": null,
            "_view_module": "@jupyter-widgets/base",
            "_view_module_version": "1.2.0",
            "_view_name": "LayoutView",
            "align_content": null,
            "align_items": null,
            "align_self": null,
            "border": null,
            "bottom": null,
            "display": null,
            "flex": null,
            "flex_flow": null,
            "grid_area": null,
            "grid_auto_columns": null,
            "grid_auto_flow": null,
            "grid_auto_rows": null,
            "grid_column": null,
            "grid_gap": null,
            "grid_row": null,
            "grid_template_areas": null,
            "grid_template_columns": null,
            "grid_template_rows": null,
            "height": null,
            "justify_content": null,
            "justify_items": null,
            "left": null,
            "margin": null,
            "max_height": null,
            "max_width": null,
            "min_height": null,
            "min_width": null,
            "object_fit": null,
            "object_position": null,
            "order": null,
            "overflow": null,
            "overflow_x": null,
            "overflow_y": null,
            "padding": null,
            "right": null,
            "top": null,
            "visibility": null,
            "width": null
          }
        },
        "1c18fc56f18b401c99fb3cc7b9477a08": {
          "model_module": "@jupyter-widgets/base",
          "model_name": "LayoutModel",
          "model_module_version": "1.2.0",
          "state": {
            "_model_module": "@jupyter-widgets/base",
            "_model_module_version": "1.2.0",
            "_model_name": "LayoutModel",
            "_view_count": null,
            "_view_module": "@jupyter-widgets/base",
            "_view_module_version": "1.2.0",
            "_view_name": "LayoutView",
            "align_content": null,
            "align_items": null,
            "align_self": null,
            "border": null,
            "bottom": null,
            "display": null,
            "flex": null,
            "flex_flow": null,
            "grid_area": null,
            "grid_auto_columns": null,
            "grid_auto_flow": null,
            "grid_auto_rows": null,
            "grid_column": null,
            "grid_gap": null,
            "grid_row": null,
            "grid_template_areas": null,
            "grid_template_columns": null,
            "grid_template_rows": null,
            "height": null,
            "justify_content": null,
            "justify_items": null,
            "left": null,
            "margin": null,
            "max_height": null,
            "max_width": null,
            "min_height": null,
            "min_width": null,
            "object_fit": null,
            "object_position": null,
            "order": null,
            "overflow": null,
            "overflow_x": null,
            "overflow_y": null,
            "padding": null,
            "right": null,
            "top": null,
            "visibility": null,
            "width": null
          }
        },
        "81d56008c519445f8395056e9c1029b6": {
          "model_module": "@jupyter-widgets/controls",
          "model_name": "DescriptionStyleModel",
          "model_module_version": "1.5.0",
          "state": {
            "_model_module": "@jupyter-widgets/controls",
            "_model_module_version": "1.5.0",
            "_model_name": "DescriptionStyleModel",
            "_view_count": null,
            "_view_module": "@jupyter-widgets/base",
            "_view_module_version": "1.2.0",
            "_view_name": "StyleView",
            "description_width": ""
          }
        },
        "ff52c6f5900f4327a0ca2f7e3195491d": {
          "model_module": "@jupyter-widgets/base",
          "model_name": "LayoutModel",
          "model_module_version": "1.2.0",
          "state": {
            "_model_module": "@jupyter-widgets/base",
            "_model_module_version": "1.2.0",
            "_model_name": "LayoutModel",
            "_view_count": null,
            "_view_module": "@jupyter-widgets/base",
            "_view_module_version": "1.2.0",
            "_view_name": "LayoutView",
            "align_content": null,
            "align_items": null,
            "align_self": null,
            "border": null,
            "bottom": null,
            "display": null,
            "flex": null,
            "flex_flow": null,
            "grid_area": null,
            "grid_auto_columns": null,
            "grid_auto_flow": null,
            "grid_auto_rows": null,
            "grid_column": null,
            "grid_gap": null,
            "grid_row": null,
            "grid_template_areas": null,
            "grid_template_columns": null,
            "grid_template_rows": null,
            "height": null,
            "justify_content": null,
            "justify_items": null,
            "left": null,
            "margin": null,
            "max_height": null,
            "max_width": null,
            "min_height": null,
            "min_width": null,
            "object_fit": null,
            "object_position": null,
            "order": null,
            "overflow": null,
            "overflow_x": null,
            "overflow_y": null,
            "padding": null,
            "right": null,
            "top": null,
            "visibility": null,
            "width": null
          }
        },
        "4b25f3e5be5242ebbe141ddc7cb734b5": {
          "model_module": "@jupyter-widgets/controls",
          "model_name": "ProgressStyleModel",
          "model_module_version": "1.5.0",
          "state": {
            "_model_module": "@jupyter-widgets/controls",
            "_model_module_version": "1.5.0",
            "_model_name": "ProgressStyleModel",
            "_view_count": null,
            "_view_module": "@jupyter-widgets/base",
            "_view_module_version": "1.2.0",
            "_view_name": "StyleView",
            "bar_color": null,
            "description_width": ""
          }
        },
        "a3fd17afb5b842fb9a977f8caf6409d5": {
          "model_module": "@jupyter-widgets/base",
          "model_name": "LayoutModel",
          "model_module_version": "1.2.0",
          "state": {
            "_model_module": "@jupyter-widgets/base",
            "_model_module_version": "1.2.0",
            "_model_name": "LayoutModel",
            "_view_count": null,
            "_view_module": "@jupyter-widgets/base",
            "_view_module_version": "1.2.0",
            "_view_name": "LayoutView",
            "align_content": null,
            "align_items": null,
            "align_self": null,
            "border": null,
            "bottom": null,
            "display": null,
            "flex": null,
            "flex_flow": null,
            "grid_area": null,
            "grid_auto_columns": null,
            "grid_auto_flow": null,
            "grid_auto_rows": null,
            "grid_column": null,
            "grid_gap": null,
            "grid_row": null,
            "grid_template_areas": null,
            "grid_template_columns": null,
            "grid_template_rows": null,
            "height": null,
            "justify_content": null,
            "justify_items": null,
            "left": null,
            "margin": null,
            "max_height": null,
            "max_width": null,
            "min_height": null,
            "min_width": null,
            "object_fit": null,
            "object_position": null,
            "order": null,
            "overflow": null,
            "overflow_x": null,
            "overflow_y": null,
            "padding": null,
            "right": null,
            "top": null,
            "visibility": null,
            "width": null
          }
        },
        "fc03f652d36a48b48bfdb553203eb6d2": {
          "model_module": "@jupyter-widgets/controls",
          "model_name": "DescriptionStyleModel",
          "model_module_version": "1.5.0",
          "state": {
            "_model_module": "@jupyter-widgets/controls",
            "_model_module_version": "1.5.0",
            "_model_name": "DescriptionStyleModel",
            "_view_count": null,
            "_view_module": "@jupyter-widgets/base",
            "_view_module_version": "1.2.0",
            "_view_name": "StyleView",
            "description_width": ""
          }
        }
      }
    }
  },
  "cells": [
    {
      "cell_type": "markdown",
      "metadata": {
        "id": "view-in-github",
        "colab_type": "text"
      },
      "source": [
        "<a href=\"https://colab.research.google.com/github/LM1997610/Networking-for-Big-Data/blob/main/NBD_HW2.ipynb\" target=\"_parent\"><img src=\"https://colab.research.google.com/assets/colab-badge.svg\" alt=\"Open In Colab\"/></a>"
      ]
    },
    {
      "cell_type": "markdown",
      "source": [
        "# NBD - Challenge 2"
      ],
      "metadata": {
        "id": "nvV4JINf8wAJ"
      }
    },
    {
      "cell_type": "code",
      "source": [
        "import time; import datetime\n",
        "\n",
        "import numpy as np\n",
        "import pandas as pd\n",
        "import random as rdm\n",
        "from tqdm.auto import tqdm\n",
        "\n",
        "#from tabulate import tabulate\n",
        "from matplotlib import pyplot as plt\n",
        "\n",
        "import math"
      ],
      "metadata": {
        "id": "bpz5flR04ACZ"
      },
      "execution_count": 237,
      "outputs": []
    },
    {
      "cell_type": "code",
      "source": [
        "!gdown 19baCZ9_wVNSBWVRJFtDIA4haBxv6IXAw"
      ],
      "metadata": {
        "colab": {
          "base_uri": "https://localhost:8080/"
        },
        "id": "SkldLSpxFxDa",
        "outputId": "e29eb2b7-9cf9-4920-afff-732e7b0f79b4"
      },
      "execution_count": 238,
      "outputs": [
        {
          "output_type": "stream",
          "name": "stdout",
          "text": [
            "Downloading...\n",
            "From: https://drive.google.com/uc?id=19baCZ9_wVNSBWVRJFtDIA4haBxv6IXAw\n",
            "To: /content/Cell_a.zip\n",
            "\r  0% 0.00/43.3M [00:00<?, ?B/s]\r 46% 19.9M/43.3M [00:00<00:00, 198MB/s]\r 94% 40.9M/43.3M [00:00<00:00, 203MB/s]\r100% 43.3M/43.3M [00:00<00:00, 207MB/s]\n"
          ]
        }
      ]
    },
    {
      "cell_type": "markdown",
      "source": [
        "### Data loading"
      ],
      "metadata": {
        "id": "HN9ppIPX6UBJ"
      }
    },
    {
      "cell_type": "code",
      "source": [
        "data = pd.read_csv('Cell_a.zip')"
      ],
      "metadata": {
        "id": "gn8IkKehF0zL"
      },
      "execution_count": 239,
      "outputs": []
    },
    {
      "cell_type": "code",
      "source": [
        "print(\"\\n data.shape : {}\\n\".format((data.shape))) #2329133\n",
        "data.head()"
      ],
      "metadata": {
        "colab": {
          "base_uri": "https://localhost:8080/",
          "height": 258
        },
        "id": "6g9IAoncF3pL",
        "outputId": "8d39a9f9-1eae-487a-f482-f1b8ad536ea5"
      },
      "execution_count": 240,
      "outputs": [
        {
          "output_type": "stream",
          "name": "stdout",
          "text": [
            "\n",
            " data.shape : (2329133, 5)\n",
            "\n"
          ]
        },
        {
          "output_type": "execute_result",
          "data": {
            "text/plain": [
              "         Job_ID  Task_ID  Arrival_Time       CPU    Memory\n",
              "0  375000667413        0     603026300  0.041851  0.001169\n",
              "1  375000669289        0     606413041  0.024968  0.001179\n",
              "2  375000670586        0     608994453  0.024176  0.001173\n",
              "3  375000670588        0     608994466  0.019552  0.001163\n",
              "4  375000670590        0     609042903  0.028044  0.001179"
            ],
            "text/html": [
              "\n",
              "  <div id=\"df-b27f4fd1-e614-480f-88db-c4e4ed73ca08\">\n",
              "    <div class=\"colab-df-container\">\n",
              "      <div>\n",
              "<style scoped>\n",
              "    .dataframe tbody tr th:only-of-type {\n",
              "        vertical-align: middle;\n",
              "    }\n",
              "\n",
              "    .dataframe tbody tr th {\n",
              "        vertical-align: top;\n",
              "    }\n",
              "\n",
              "    .dataframe thead th {\n",
              "        text-align: right;\n",
              "    }\n",
              "</style>\n",
              "<table border=\"1\" class=\"dataframe\">\n",
              "  <thead>\n",
              "    <tr style=\"text-align: right;\">\n",
              "      <th></th>\n",
              "      <th>Job_ID</th>\n",
              "      <th>Task_ID</th>\n",
              "      <th>Arrival_Time</th>\n",
              "      <th>CPU</th>\n",
              "      <th>Memory</th>\n",
              "    </tr>\n",
              "  </thead>\n",
              "  <tbody>\n",
              "    <tr>\n",
              "      <th>0</th>\n",
              "      <td>375000667413</td>\n",
              "      <td>0</td>\n",
              "      <td>603026300</td>\n",
              "      <td>0.041851</td>\n",
              "      <td>0.001169</td>\n",
              "    </tr>\n",
              "    <tr>\n",
              "      <th>1</th>\n",
              "      <td>375000669289</td>\n",
              "      <td>0</td>\n",
              "      <td>606413041</td>\n",
              "      <td>0.024968</td>\n",
              "      <td>0.001179</td>\n",
              "    </tr>\n",
              "    <tr>\n",
              "      <th>2</th>\n",
              "      <td>375000670586</td>\n",
              "      <td>0</td>\n",
              "      <td>608994453</td>\n",
              "      <td>0.024176</td>\n",
              "      <td>0.001173</td>\n",
              "    </tr>\n",
              "    <tr>\n",
              "      <th>3</th>\n",
              "      <td>375000670588</td>\n",
              "      <td>0</td>\n",
              "      <td>608994466</td>\n",
              "      <td>0.019552</td>\n",
              "      <td>0.001163</td>\n",
              "    </tr>\n",
              "    <tr>\n",
              "      <th>4</th>\n",
              "      <td>375000670590</td>\n",
              "      <td>0</td>\n",
              "      <td>609042903</td>\n",
              "      <td>0.028044</td>\n",
              "      <td>0.001179</td>\n",
              "    </tr>\n",
              "  </tbody>\n",
              "</table>\n",
              "</div>\n",
              "      <button class=\"colab-df-convert\" onclick=\"convertToInteractive('df-b27f4fd1-e614-480f-88db-c4e4ed73ca08')\"\n",
              "              title=\"Convert this dataframe to an interactive table.\"\n",
              "              style=\"display:none;\">\n",
              "        \n",
              "  <svg xmlns=\"http://www.w3.org/2000/svg\" height=\"24px\"viewBox=\"0 0 24 24\"\n",
              "       width=\"24px\">\n",
              "    <path d=\"M0 0h24v24H0V0z\" fill=\"none\"/>\n",
              "    <path d=\"M18.56 5.44l.94 2.06.94-2.06 2.06-.94-2.06-.94-.94-2.06-.94 2.06-2.06.94zm-11 1L8.5 8.5l.94-2.06 2.06-.94-2.06-.94L8.5 2.5l-.94 2.06-2.06.94zm10 10l.94 2.06.94-2.06 2.06-.94-2.06-.94-.94-2.06-.94 2.06-2.06.94z\"/><path d=\"M17.41 7.96l-1.37-1.37c-.4-.4-.92-.59-1.43-.59-.52 0-1.04.2-1.43.59L10.3 9.45l-7.72 7.72c-.78.78-.78 2.05 0 2.83L4 21.41c.39.39.9.59 1.41.59.51 0 1.02-.2 1.41-.59l7.78-7.78 2.81-2.81c.8-.78.8-2.07 0-2.86zM5.41 20L4 18.59l7.72-7.72 1.47 1.35L5.41 20z\"/>\n",
              "  </svg>\n",
              "      </button>\n",
              "      \n",
              "  <style>\n",
              "    .colab-df-container {\n",
              "      display:flex;\n",
              "      flex-wrap:wrap;\n",
              "      gap: 12px;\n",
              "    }\n",
              "\n",
              "    .colab-df-convert {\n",
              "      background-color: #E8F0FE;\n",
              "      border: none;\n",
              "      border-radius: 50%;\n",
              "      cursor: pointer;\n",
              "      display: none;\n",
              "      fill: #1967D2;\n",
              "      height: 32px;\n",
              "      padding: 0 0 0 0;\n",
              "      width: 32px;\n",
              "    }\n",
              "\n",
              "    .colab-df-convert:hover {\n",
              "      background-color: #E2EBFA;\n",
              "      box-shadow: 0px 1px 2px rgba(60, 64, 67, 0.3), 0px 1px 3px 1px rgba(60, 64, 67, 0.15);\n",
              "      fill: #174EA6;\n",
              "    }\n",
              "\n",
              "    [theme=dark] .colab-df-convert {\n",
              "      background-color: #3B4455;\n",
              "      fill: #D2E3FC;\n",
              "    }\n",
              "\n",
              "    [theme=dark] .colab-df-convert:hover {\n",
              "      background-color: #434B5C;\n",
              "      box-shadow: 0px 1px 3px 1px rgba(0, 0, 0, 0.15);\n",
              "      filter: drop-shadow(0px 1px 2px rgba(0, 0, 0, 0.3));\n",
              "      fill: #FFFFFF;\n",
              "    }\n",
              "  </style>\n",
              "\n",
              "      <script>\n",
              "        const buttonEl =\n",
              "          document.querySelector('#df-b27f4fd1-e614-480f-88db-c4e4ed73ca08 button.colab-df-convert');\n",
              "        buttonEl.style.display =\n",
              "          google.colab.kernel.accessAllowed ? 'block' : 'none';\n",
              "\n",
              "        async function convertToInteractive(key) {\n",
              "          const element = document.querySelector('#df-b27f4fd1-e614-480f-88db-c4e4ed73ca08');\n",
              "          const dataTable =\n",
              "            await google.colab.kernel.invokeFunction('convertToInteractive',\n",
              "                                                     [key], {});\n",
              "          if (!dataTable) return;\n",
              "\n",
              "          const docLinkHtml = 'Like what you see? Visit the ' +\n",
              "            '<a target=\"_blank\" href=https://colab.research.google.com/notebooks/data_table.ipynb>data table notebook</a>'\n",
              "            + ' to learn more about interactive tables.';\n",
              "          element.innerHTML = '';\n",
              "          dataTable['output_type'] = 'display_data';\n",
              "          await google.colab.output.renderOutput(dataTable, element);\n",
              "          const docLink = document.createElement('div');\n",
              "          docLink.innerHTML = docLinkHtml;\n",
              "          element.appendChild(docLink);\n",
              "        }\n",
              "      </script>\n",
              "    </div>\n",
              "  </div>\n",
              "  "
            ]
          },
          "metadata": {},
          "execution_count": 240
        }
      ]
    },
    {
      "cell_type": "markdown",
      "source": [
        "### Constants"
      ],
      "metadata": {
        "id": "MfE8IDce8jUX"
      }
    },
    {
      "cell_type": "code",
      "source": [
        "N = 64\n",
        "mu = 0.1"
      ],
      "metadata": {
        "id": "yYNQLHg18g9Q"
      },
      "execution_count": 241,
      "outputs": []
    },
    {
      "cell_type": "markdown",
      "source": [
        "# Explorative data analysis"
      ],
      "metadata": {
        "id": "_dQoP4t55CvS"
      }
    },
    {
      "cell_type": "code",
      "source": [
        "def eCCDF(job:int, field:str, d=data) -> np.array:\n",
        "    sub = d[d['Job_ID']==job]\n",
        "    arr = np.array(sub[field])\n",
        "    quantiles, counts = np.unique(arr, return_counts=True)\n",
        "    cumprob = np.cumsum(counts).astype(np.double)/arr.size\n",
        "    return quantiles, 1-cumprob"
      ],
      "metadata": {
        "id": "rIyvaR9RZ781"
      },
      "execution_count": 242,
      "outputs": []
    },
    {
      "cell_type": "code",
      "source": [
        "count = data.groupby('Job_ID')[\"Task_ID\"].count()\n",
        "mean_cpu = data.groupby('Job_ID')[\"CPU\"].mean()\n",
        "mean_memory = data.groupby('Job_ID')[\"Memory\"].mean()\n",
        "var_cpu = data.groupby('Job_ID')[\"CPU\"].var()\n",
        "var_memory = data.groupby('Job_ID')[\"Memory\"].var()"
      ],
      "metadata": {
        "id": "MgpkViYSZ-eR"
      },
      "execution_count": null,
      "outputs": []
    },
    {
      "cell_type": "code",
      "source": [
        "jobs = pd.unique(data['Job_ID'])\n",
        "temp = {job:k for (job,k) in zip(jobs, count)}\n",
        "\n",
        "multitask = [job for job in jobs if temp[job]>1]\n",
        "\n",
        "eCCDF_CPU = {job:0 for job in jobs}\n",
        "for job in tqdm(multitask):\n",
        "    eCCDF_CPU[job] = list(zip(eCCDF(job,'CPU')))\n",
        "\n",
        "eCCDF_memory = {job:0 for job in jobs}\n",
        "for job in tqdm(multitask):\n",
        "    eCCDF_memory[job] = list(zip(eCCDF(job,'Memory')))"
      ],
      "metadata": {
        "id": "yNNYhn0zaBDR",
        "colab": {
          "base_uri": "https://localhost:8080/"
        },
        "outputId": "88400b7b-b5fd-414c-8998-e091e4912a45"
      },
      "execution_count": null,
      "outputs": [
        {
          "output_type": "stream",
          "name": "stderr",
          "text": [
            "100%|██████████| 70702/70702 [06:08<00:00, 191.76it/s]\n",
            "100%|██████████| 70702/70702 [06:12<00:00, 189.93it/s]\n"
          ]
        }
      ]
    },
    {
      "cell_type": "code",
      "source": [
        "stats = pd.DataFrame({\n",
        "    'Jobs':jobs,\n",
        "    'Tasks_count':count,\n",
        "    'Mean_CPU':mean_cpu,\n",
        "    'Mean_Memory':mean_memory,\n",
        "    'CPU_variance':var_cpu,\n",
        "    'Memory_variance':var_memory,\n",
        "    'CPU_eCCDF': [list(value) if value != 0 else value for value in eCCDF_CPU.values()],\n",
        "    'Memory_eCCDF': [list(value) if value != 0 else value for value in eCCDF_memory.values()]\n",
        "})"
      ],
      "metadata": {
        "id": "SKrRTNQqaGt2"
      },
      "execution_count": null,
      "outputs": []
    },
    {
      "cell_type": "code",
      "source": [
        "print(\"\\n stats.shape : {}\\n\".format((stats.shape)))\n",
        "\n",
        "stats.head()"
      ],
      "metadata": {
        "colab": {
          "base_uri": "https://localhost:8080/",
          "height": 289
        },
        "id": "MoUWtXeN5F9u",
        "outputId": "d601ed1d-77ad-4314-bba1-11ad8e87e362"
      },
      "execution_count": null,
      "outputs": [
        {
          "output_type": "stream",
          "name": "stdout",
          "text": [
            "\n",
            " stats.shape : (1163061, 8)\n",
            "\n"
          ]
        },
        {
          "output_type": "execute_result",
          "data": {
            "text/plain": [
              "                      Jobs  Tasks count  Mean CPU  Mean Memory  CPU variance  \\\n",
              "Job_ID                                                                         \n",
              "375000667413  375000667413            1  0.041851     0.001169           NaN   \n",
              "375000669289  375000669289            1  0.024968     0.001179           NaN   \n",
              "375000670586  375000670586            1  0.024176     0.001173           NaN   \n",
              "375000670588  375000670588            1  0.019552     0.001163           NaN   \n",
              "375000670590  375000670590            1  0.028044     0.001179           NaN   \n",
              "\n",
              "              Memory variance CPU eCCDF Memory eCCDF  \n",
              "Job_ID                                                \n",
              "375000667413              NaN         0            0  \n",
              "375000669289              NaN         0            0  \n",
              "375000670586              NaN         0            0  \n",
              "375000670588              NaN         0            0  \n",
              "375000670590              NaN         0            0  "
            ],
            "text/html": [
              "\n",
              "  <div id=\"df-34768a63-7ad8-47ac-b447-00fe76cdcb35\">\n",
              "    <div class=\"colab-df-container\">\n",
              "      <div>\n",
              "<style scoped>\n",
              "    .dataframe tbody tr th:only-of-type {\n",
              "        vertical-align: middle;\n",
              "    }\n",
              "\n",
              "    .dataframe tbody tr th {\n",
              "        vertical-align: top;\n",
              "    }\n",
              "\n",
              "    .dataframe thead th {\n",
              "        text-align: right;\n",
              "    }\n",
              "</style>\n",
              "<table border=\"1\" class=\"dataframe\">\n",
              "  <thead>\n",
              "    <tr style=\"text-align: right;\">\n",
              "      <th></th>\n",
              "      <th>Jobs</th>\n",
              "      <th>Tasks count</th>\n",
              "      <th>Mean CPU</th>\n",
              "      <th>Mean Memory</th>\n",
              "      <th>CPU variance</th>\n",
              "      <th>Memory variance</th>\n",
              "      <th>CPU eCCDF</th>\n",
              "      <th>Memory eCCDF</th>\n",
              "    </tr>\n",
              "    <tr>\n",
              "      <th>Job_ID</th>\n",
              "      <th></th>\n",
              "      <th></th>\n",
              "      <th></th>\n",
              "      <th></th>\n",
              "      <th></th>\n",
              "      <th></th>\n",
              "      <th></th>\n",
              "      <th></th>\n",
              "    </tr>\n",
              "  </thead>\n",
              "  <tbody>\n",
              "    <tr>\n",
              "      <th>375000667413</th>\n",
              "      <td>375000667413</td>\n",
              "      <td>1</td>\n",
              "      <td>0.041851</td>\n",
              "      <td>0.001169</td>\n",
              "      <td>NaN</td>\n",
              "      <td>NaN</td>\n",
              "      <td>0</td>\n",
              "      <td>0</td>\n",
              "    </tr>\n",
              "    <tr>\n",
              "      <th>375000669289</th>\n",
              "      <td>375000669289</td>\n",
              "      <td>1</td>\n",
              "      <td>0.024968</td>\n",
              "      <td>0.001179</td>\n",
              "      <td>NaN</td>\n",
              "      <td>NaN</td>\n",
              "      <td>0</td>\n",
              "      <td>0</td>\n",
              "    </tr>\n",
              "    <tr>\n",
              "      <th>375000670586</th>\n",
              "      <td>375000670586</td>\n",
              "      <td>1</td>\n",
              "      <td>0.024176</td>\n",
              "      <td>0.001173</td>\n",
              "      <td>NaN</td>\n",
              "      <td>NaN</td>\n",
              "      <td>0</td>\n",
              "      <td>0</td>\n",
              "    </tr>\n",
              "    <tr>\n",
              "      <th>375000670588</th>\n",
              "      <td>375000670588</td>\n",
              "      <td>1</td>\n",
              "      <td>0.019552</td>\n",
              "      <td>0.001163</td>\n",
              "      <td>NaN</td>\n",
              "      <td>NaN</td>\n",
              "      <td>0</td>\n",
              "      <td>0</td>\n",
              "    </tr>\n",
              "    <tr>\n",
              "      <th>375000670590</th>\n",
              "      <td>375000670590</td>\n",
              "      <td>1</td>\n",
              "      <td>0.028044</td>\n",
              "      <td>0.001179</td>\n",
              "      <td>NaN</td>\n",
              "      <td>NaN</td>\n",
              "      <td>0</td>\n",
              "      <td>0</td>\n",
              "    </tr>\n",
              "  </tbody>\n",
              "</table>\n",
              "</div>\n",
              "      <button class=\"colab-df-convert\" onclick=\"convertToInteractive('df-34768a63-7ad8-47ac-b447-00fe76cdcb35')\"\n",
              "              title=\"Convert this dataframe to an interactive table.\"\n",
              "              style=\"display:none;\">\n",
              "        \n",
              "  <svg xmlns=\"http://www.w3.org/2000/svg\" height=\"24px\"viewBox=\"0 0 24 24\"\n",
              "       width=\"24px\">\n",
              "    <path d=\"M0 0h24v24H0V0z\" fill=\"none\"/>\n",
              "    <path d=\"M18.56 5.44l.94 2.06.94-2.06 2.06-.94-2.06-.94-.94-2.06-.94 2.06-2.06.94zm-11 1L8.5 8.5l.94-2.06 2.06-.94-2.06-.94L8.5 2.5l-.94 2.06-2.06.94zm10 10l.94 2.06.94-2.06 2.06-.94-2.06-.94-.94-2.06-.94 2.06-2.06.94z\"/><path d=\"M17.41 7.96l-1.37-1.37c-.4-.4-.92-.59-1.43-.59-.52 0-1.04.2-1.43.59L10.3 9.45l-7.72 7.72c-.78.78-.78 2.05 0 2.83L4 21.41c.39.39.9.59 1.41.59.51 0 1.02-.2 1.41-.59l7.78-7.78 2.81-2.81c.8-.78.8-2.07 0-2.86zM5.41 20L4 18.59l7.72-7.72 1.47 1.35L5.41 20z\"/>\n",
              "  </svg>\n",
              "      </button>\n",
              "      \n",
              "  <style>\n",
              "    .colab-df-container {\n",
              "      display:flex;\n",
              "      flex-wrap:wrap;\n",
              "      gap: 12px;\n",
              "    }\n",
              "\n",
              "    .colab-df-convert {\n",
              "      background-color: #E8F0FE;\n",
              "      border: none;\n",
              "      border-radius: 50%;\n",
              "      cursor: pointer;\n",
              "      display: none;\n",
              "      fill: #1967D2;\n",
              "      height: 32px;\n",
              "      padding: 0 0 0 0;\n",
              "      width: 32px;\n",
              "    }\n",
              "\n",
              "    .colab-df-convert:hover {\n",
              "      background-color: #E2EBFA;\n",
              "      box-shadow: 0px 1px 2px rgba(60, 64, 67, 0.3), 0px 1px 3px 1px rgba(60, 64, 67, 0.15);\n",
              "      fill: #174EA6;\n",
              "    }\n",
              "\n",
              "    [theme=dark] .colab-df-convert {\n",
              "      background-color: #3B4455;\n",
              "      fill: #D2E3FC;\n",
              "    }\n",
              "\n",
              "    [theme=dark] .colab-df-convert:hover {\n",
              "      background-color: #434B5C;\n",
              "      box-shadow: 0px 1px 3px 1px rgba(0, 0, 0, 0.15);\n",
              "      filter: drop-shadow(0px 1px 2px rgba(0, 0, 0, 0.3));\n",
              "      fill: #FFFFFF;\n",
              "    }\n",
              "  </style>\n",
              "\n",
              "      <script>\n",
              "        const buttonEl =\n",
              "          document.querySelector('#df-34768a63-7ad8-47ac-b447-00fe76cdcb35 button.colab-df-convert');\n",
              "        buttonEl.style.display =\n",
              "          google.colab.kernel.accessAllowed ? 'block' : 'none';\n",
              "\n",
              "        async function convertToInteractive(key) {\n",
              "          const element = document.querySelector('#df-34768a63-7ad8-47ac-b447-00fe76cdcb35');\n",
              "          const dataTable =\n",
              "            await google.colab.kernel.invokeFunction('convertToInteractive',\n",
              "                                                     [key], {});\n",
              "          if (!dataTable) return;\n",
              "\n",
              "          const docLinkHtml = 'Like what you see? Visit the ' +\n",
              "            '<a target=\"_blank\" href=https://colab.research.google.com/notebooks/data_table.ipynb>data table notebook</a>'\n",
              "            + ' to learn more about interactive tables.';\n",
              "          element.innerHTML = '';\n",
              "          dataTable['output_type'] = 'display_data';\n",
              "          await google.colab.output.renderOutput(dataTable, element);\n",
              "          const docLink = document.createElement('div');\n",
              "          docLink.innerHTML = docLinkHtml;\n",
              "          element.appendChild(docLink);\n",
              "        }\n",
              "      </script>\n",
              "    </div>\n",
              "  </div>\n",
              "  "
            ]
          },
          "metadata": {},
          "execution_count": 11
        }
      ]
    },
    {
      "cell_type": "markdown",
      "source": [
        "# Implementing the baselines: LWL for dispatching, FCFS for scheduling"
      ],
      "metadata": {
        "id": "OzsWTlDl5HJv"
      }
    },
    {
      "cell_type": "markdown",
      "source": [
        "## LWL policy for dispatching"
      ],
      "metadata": {
        "id": "M7zL7qHs5M4R"
      }
    },
    {
      "cell_type": "code",
      "source": [],
      "metadata": {
        "id": "Wn8BrPD25LGv"
      },
      "execution_count": null,
      "outputs": []
    },
    {
      "cell_type": "markdown",
      "source": [
        "## FCFS for scheduling"
      ],
      "metadata": {
        "id": "-s0u1Qus5P8E"
      }
    },
    {
      "cell_type": "code",
      "source": [
        "!git clone https://github.com/LM1997610/Networking-for-Big-Data NBD"
      ],
      "metadata": {
        "id": "-k1NepspgWfN",
        "colab": {
          "base_uri": "https://localhost:8080/"
        },
        "outputId": "afd802d2-6b8b-45d6-b949-f656ab889664"
      },
      "execution_count": null,
      "outputs": [
        {
          "output_type": "stream",
          "name": "stdout",
          "text": [
            "Cloning into 'NBD'...\n",
            "remote: Enumerating objects: 47, done.\u001b[K\n",
            "remote: Counting objects: 100% (47/47), done.\u001b[K\n",
            "remote: Compressing objects: 100% (40/40), done.\u001b[K\n",
            "remote: Total 47 (delta 17), reused 0 (delta 0), pack-reused 0\u001b[K\n",
            "Unpacking objects: 100% (47/47), 24.20 KiB | 1.61 MiB/s, done.\n"
          ]
        }
      ]
    },
    {
      "cell_type": "code",
      "source": [
        "queue_status = []"
      ],
      "metadata": {
        "id": "9yaKvnnGJadu"
      },
      "execution_count": null,
      "outputs": []
    },
    {
      "cell_type": "code",
      "source": [
        "class real_FCFS:\n",
        "\n",
        "    def __init__(self, server_id = int):   # constructor function  \n",
        "\n",
        "        self.server_id = server_id   # non so se servirà\n",
        "\n",
        "        self.memory =  1 #GNMU\n",
        "\n",
        "        self.queue =  []  # will store just arrival_time and service time of task\n",
        "\n",
        "        self.queue_status = []  # keep track of our measures\n",
        "\n",
        "        self.workload = 0   # keep trak of work left behind / lateness\n",
        "\n",
        "        self.list_done_task = []   # for messages with dispatcher \n",
        "    \n",
        "    def is_empty(self):\n",
        "\n",
        "      if not self.queue: return True\n",
        "      else: return False      ### and do some work \n",
        "    \n",
        "    def add_to_queue(self, dizionario : dict, µ = 0.1 ):\n",
        "\n",
        "      new_job_id = str(int(dizionario[\"Job_ID\"]))+ \"_\" + str(int(dizionario[\"Task_ID\"]))\n",
        "\n",
        "      arrival_time_task = int(dizionario[\"Arrival_Time\"])\n",
        "\n",
        "      running_time_task = (dizionario[\"CPU\"]/ µ)*1000     # from seconds to milliseconds\n",
        "\n",
        "      a_dict = {\"id\": new_job_id, \"arrival_time\": arrival_time_task, \"service_time\" : running_time_task}\n",
        "\n",
        "      if self.memory > dizionario[\"Memory\"]: \n",
        "         self.memory -= dizionario[\"Memory\"]\n",
        "         self.queue.append(a_dict)   ### and do some work \n",
        "         \n",
        "      else: print(\"...not enough space in memory\")  ## and think what to do \n",
        "\n",
        "## \n",
        "################################################################################\n",
        "# time_delta fondamentali per capire se il server è impegnato oppure no\n",
        "\n",
        "###############################################################################\n",
        "\n",
        "    def exit_time(self): # cumulative execution times\n",
        "      times = []\n",
        "\n",
        "      for n, task in enumerate(self.queue):\n",
        "        \n",
        "        if n == 0: times.append(task['arrival_time'])\n",
        "\n",
        "        else: times.append(times[n-1] + task['arrival_time'])\n",
        "\n",
        "      self.queue_status = {x[\"id\"]: [x[\"arrival_time\"], x[\"service_time\"], v] for x,v in zip(self.queue, times)}\n",
        "      # KEYS = new_job_id --> VALUES = Arrival_Time, Burst_time, exit_time\n",
        "\n",
        "      return self.queue_status\n",
        "      \n",
        "#########################################################################################\n",
        "\n",
        "    def turn_around_times(self): \n",
        "\n",
        "        a_list = []\n",
        "\n",
        "        for task in x.queue_status.keys():\n",
        "\n",
        "            desired = x.queue_status[task][-1]-x.queue_status[task][0]\n",
        "\n",
        "            # difference between Exit time and Arrival of the processes\n",
        "\n",
        "            #if desired < 0: \n",
        "            #    desired = dizionario[i][1]\n",
        "            # if negative there is no queue ahead, so TAT = Burst_time\n",
        "            # perche WT = TAT - Burst_time deve essere  0\n",
        "            # not sure \n",
        "\n",
        "            a_list.append(desired)\n",
        "\n",
        "        self.queue_status = {v[0]:(*v[1], x) for v, x in zip(self.queue_status.items(), a_list)}\n",
        "        # KEYS = new_job_id --> VALUES = Arrival_Time, Burst_time, Exit_time, Turn_around\n",
        "\n",
        "        return  self.queue_status\n",
        "\n",
        "#########################################################################################\n",
        "\n",
        "    def waiting_times(self):\n",
        "      \n",
        "        a_list = []\n",
        "        \n",
        "        for task in x.queue_status.keys():\n",
        "            \n",
        "            wt = x.queue_status[task][-1]-x.queue_status[task][1]\n",
        "            # difference between turn around time and burst time\n",
        "\n",
        "            a_list.append(wt)\n",
        "        \n",
        "        self.queue_status = {v[0]:(*v[1], x) for v, x in zip(self.queue_status.items(), a_list)}\n",
        "        # KEYS = new_job_id --> VALUES = Arrival_Time, Burst_time, Exit_time, Turn_around, Waiting\n",
        "\n",
        "        return self.queue_status\n",
        "\n",
        "    def main_scheduling(self):\n",
        "\n",
        "      if self.is_empty() == False: \n",
        "\n",
        "        print(\"ho da lavorare\")\n",
        "        \n",
        "        my_list = [x[\"arrival_time\"] for x in x.queue]\n",
        "        time_deltas = [my_list[i]-my_list[i-1] if i !=0 else 0 for i in reversed(range(len(my_list)))][::-1]\n",
        "        time_deltas\n",
        "\n"
      ],
      "metadata": {
        "id": "5dQmS5ER0jud"
      },
      "execution_count": 275,
      "outputs": []
    },
    {
      "cell_type": "code",
      "source": [
        "x.main_scheduling()"
      ],
      "metadata": {
        "colab": {
          "base_uri": "https://localhost:8080/"
        },
        "id": "jVEPl5qCSYR7",
        "outputId": "ece317e8-d5bd-4363-f534-890ddc48880a"
      },
      "execution_count": 284,
      "outputs": [
        {
          "output_type": "stream",
          "name": "stdout",
          "text": [
            "ho da lavorare\n"
          ]
        }
      ]
    },
    {
      "cell_type": "code",
      "source": [
        "x = real_FCFS(13)\n",
        "print(x)"
      ],
      "metadata": {
        "colab": {
          "base_uri": "https://localhost:8080/"
        },
        "id": "OuXXT9gW05oQ",
        "outputId": "38e637a3-0cd6-419f-ea18-00b7056ca59d"
      },
      "execution_count": 281,
      "outputs": [
        {
          "output_type": "stream",
          "name": "stdout",
          "text": [
            "<__main__.real_FCFS object at 0x7fd8a7f6bbb0>\n"
          ]
        }
      ]
    },
    {
      "cell_type": "code",
      "source": [
        "x.add_to_queue(data.iloc[0])\n",
        "x.add_to_queue(data.iloc[1])\n",
        "x.add_to_queue(data.iloc[2])\n",
        "x.add_to_queue(data.iloc[3])"
      ],
      "metadata": {
        "id": "U8Yt_Hn-ACSG"
      },
      "execution_count": 282,
      "outputs": []
    },
    {
      "cell_type": "code",
      "source": [
        "x.is_empty()"
      ],
      "metadata": {
        "colab": {
          "base_uri": "https://localhost:8080/"
        },
        "id": "vT4dhyb4TCec",
        "outputId": "5316de23-19df-4d11-ad20-0ae89eee8762"
      },
      "execution_count": 283,
      "outputs": [
        {
          "output_type": "execute_result",
          "data": {
            "text/plain": [
              "False"
            ]
          },
          "metadata": {},
          "execution_count": 283
        }
      ]
    },
    {
      "cell_type": "code",
      "source": [
        "x.memory"
      ],
      "metadata": {
        "colab": {
          "base_uri": "https://localhost:8080/"
        },
        "id": "cOuHVqOC3Q7n",
        "outputId": "200a8fec-dc12-4b00-bcf7-fe0c02c17e87"
      },
      "execution_count": 247,
      "outputs": [
        {
          "output_type": "execute_result",
          "data": {
            "text/plain": [
              "0.9953155517578127"
            ]
          },
          "metadata": {},
          "execution_count": 247
        }
      ]
    },
    {
      "cell_type": "code",
      "source": [
        "x.queue"
      ],
      "metadata": {
        "colab": {
          "base_uri": "https://localhost:8080/"
        },
        "id": "kMwnxmSaAKSi",
        "outputId": "f5f69fe9-7b04-44cc-c76f-6013f0e7248d"
      },
      "execution_count": 222,
      "outputs": [
        {
          "output_type": "execute_result",
          "data": {
            "text/plain": [
              "[{'id': '375000667413_0',\n",
              "  'arrival_time': 603026300,\n",
              "  'service_time': 418.51043701171795},\n",
              " {'id': '375000669289_0',\n",
              "  'arrival_time': 606413041,\n",
              "  'service_time': 249.68147277831997},\n",
              " {'id': '375000670586_0',\n",
              "  'arrival_time': 608994453,\n",
              "  'service_time': 241.75643920898398},\n",
              " {'id': '375000670588_0',\n",
              "  'arrival_time': 608994466,\n",
              "  'service_time': 195.52230834960898}]"
            ]
          },
          "metadata": {},
          "execution_count": 222
        }
      ]
    },
    {
      "cell_type": "code",
      "source": [
        "my_list = [x[\"arrival_time\"] for x in x.queue]\n",
        "time_deltas = [my_list[i]-my_list[i-1] if i !=0 else 0 for i in reversed(range(len(my_list)))][::-1]\n",
        "time_deltas"
      ],
      "metadata": {
        "colab": {
          "base_uri": "https://localhost:8080/"
        },
        "id": "9ehGID4kUG6Q",
        "outputId": "d096870c-089d-43d6-e528-33a3b0596d12"
      },
      "execution_count": 289,
      "outputs": [
        {
          "output_type": "execute_result",
          "data": {
            "text/plain": [
              "[0, 3386741, 2581412, 13]"
            ]
          },
          "metadata": {},
          "execution_count": 289
        }
      ]
    },
    {
      "cell_type": "code",
      "source": [
        "times = x.exit_time()\n",
        "times "
      ],
      "metadata": {
        "colab": {
          "base_uri": "https://localhost:8080/"
        },
        "id": "JxEeNPvAB1Pd",
        "outputId": "14fa5665-9918-458a-b084-e3024e8172f4"
      },
      "execution_count": 223,
      "outputs": [
        {
          "output_type": "execute_result",
          "data": {
            "text/plain": [
              "{'375000667413_0': [603026300, 418.51043701171795, 603026300],\n",
              " '375000669289_0': [606413041, 249.68147277831997, 1209439341],\n",
              " '375000670586_0': [608994453, 241.75643920898398, 1818433794],\n",
              " '375000670588_0': [608994466, 195.52230834960898, 2427428260]}"
            ]
          },
          "metadata": {},
          "execution_count": 223
        }
      ]
    },
    {
      "cell_type": "code",
      "source": [
        "times == x.queue_status"
      ],
      "metadata": {
        "colab": {
          "base_uri": "https://localhost:8080/"
        },
        "id": "qefvsWmOKZgS",
        "outputId": "d4e07e16-8dff-4b95-b133-bdcf6b54db5a"
      },
      "execution_count": 224,
      "outputs": [
        {
          "output_type": "execute_result",
          "data": {
            "text/plain": [
              "True"
            ]
          },
          "metadata": {},
          "execution_count": 224
        }
      ]
    },
    {
      "cell_type": "code",
      "source": [
        "x.queue"
      ],
      "metadata": {
        "colab": {
          "base_uri": "https://localhost:8080/"
        },
        "id": "d1DNqR5vLLq3",
        "outputId": "409df962-fe41-4b03-9262-b044aba2f47f"
      },
      "execution_count": 225,
      "outputs": [
        {
          "output_type": "execute_result",
          "data": {
            "text/plain": [
              "[{'id': '375000667413_0',\n",
              "  'arrival_time': 603026300,\n",
              "  'service_time': 418.51043701171795},\n",
              " {'id': '375000669289_0',\n",
              "  'arrival_time': 606413041,\n",
              "  'service_time': 249.68147277831997},\n",
              " {'id': '375000670586_0',\n",
              "  'arrival_time': 608994453,\n",
              "  'service_time': 241.75643920898398},\n",
              " {'id': '375000670588_0',\n",
              "  'arrival_time': 608994466,\n",
              "  'service_time': 195.52230834960898}]"
            ]
          },
          "metadata": {},
          "execution_count": 225
        }
      ]
    },
    {
      "cell_type": "code",
      "source": [
        "x.turn_around_times()"
      ],
      "metadata": {
        "colab": {
          "base_uri": "https://localhost:8080/"
        },
        "id": "R3wwcIkfKN-o",
        "outputId": "d5fec1f3-554b-4444-febe-15c5ab3d07eb"
      },
      "execution_count": 227,
      "outputs": [
        {
          "output_type": "execute_result",
          "data": {
            "text/plain": [
              "{'375000667413_0': (603026300, 418.51043701171795, 603026300, 0),\n",
              " '375000669289_0': (606413041, 249.68147277831997, 1209439341, 603026300),\n",
              " '375000670586_0': (608994453, 241.75643920898398, 1818433794, 1209439341),\n",
              " '375000670588_0': (608994466, 195.52230834960898, 2427428260, 1818433794)}"
            ]
          },
          "metadata": {},
          "execution_count": 227
        }
      ]
    },
    {
      "cell_type": "code",
      "source": [
        "x.turn_around_times()"
      ],
      "metadata": {
        "colab": {
          "base_uri": "https://localhost:8080/"
        },
        "id": "f21cneFXDkbc",
        "outputId": "0b491977-72c8-4013-b464-248fd7d2592a"
      },
      "execution_count": null,
      "outputs": [
        {
          "output_type": "execute_result",
          "data": {
            "text/plain": [
              "[0, 603026300, 1209439341, 1818433794]"
            ]
          },
          "metadata": {},
          "execution_count": 136
        }
      ]
    },
    {
      "cell_type": "code",
      "source": [
        "x.waiting_times()"
      ],
      "metadata": {
        "colab": {
          "base_uri": "https://localhost:8080/"
        },
        "id": "GmkS-f4kErDo",
        "outputId": "43d485ab-c9be-4f54-8252-1143761baf8d"
      },
      "execution_count": 228,
      "outputs": [
        {
          "output_type": "execute_result",
          "data": {
            "text/plain": [
              "{'375000667413_0': (603026300,\n",
              "  418.51043701171795,\n",
              "  603026300,\n",
              "  0,\n",
              "  -418.51043701171795),\n",
              " '375000669289_0': (606413041,\n",
              "  249.68147277831997,\n",
              "  1209439341,\n",
              "  603026300,\n",
              "  603026050.3185272),\n",
              " '375000670586_0': (608994453,\n",
              "  241.75643920898398,\n",
              "  1818433794,\n",
              "  1209439341,\n",
              "  1209439099.2435608),\n",
              " '375000670588_0': (608994466,\n",
              "  195.52230834960898,\n",
              "  2427428260,\n",
              "  1818433794,\n",
              "  1818433598.4776917)}"
            ]
          },
          "metadata": {},
          "execution_count": 228
        }
      ]
    },
    {
      "cell_type": "code",
      "source": [
        "603026300 + 606413041"
      ],
      "metadata": {
        "colab": {
          "base_uri": "https://localhost:8080/"
        },
        "id": "68eB8rGNBWMm",
        "outputId": "2da6a2a8-9a85-4d9b-f106-8ea7f536cfc6"
      },
      "execution_count": null,
      "outputs": [
        {
          "output_type": "execute_result",
          "data": {
            "text/plain": [
              "1209439341"
            ]
          },
          "metadata": {},
          "execution_count": 95
        }
      ]
    },
    {
      "cell_type": "code",
      "source": [
        "\n",
        "times = []\n",
        "\n",
        "for n, task in enumerate(x.queue):\n",
        "    \n",
        "    if n == 0:\n",
        "        times.append(task['arrival_time'])\n",
        "\n",
        "    else:\n",
        "        times.append(times[n-1] + task['arrival_time'])\n",
        "\n",
        "times"
      ],
      "metadata": {
        "colab": {
          "base_uri": "https://localhost:8080/"
        },
        "id": "irZyb7zdArrz",
        "outputId": "227b10d5-837e-459d-9f96-639ae71e98f2"
      },
      "execution_count": null,
      "outputs": [
        {
          "output_type": "execute_result",
          "data": {
            "text/plain": [
              "[603026300, 1209439341, 1818433794]"
            ]
          },
          "metadata": {},
          "execution_count": 94
        }
      ]
    },
    {
      "cell_type": "code",
      "source": [
        "#from NBD.module import FCFS\n",
        "\n",
        "class FCFS:\n",
        "\n",
        "################################################################\n",
        "    \n",
        "    def exit_time(dizionario : dict): \n",
        "        # cumulative execution times\n",
        "\n",
        "        times = []\n",
        "        \n",
        "        for n,i in enumerate(dizionario.keys()):\n",
        "            \n",
        "            if n == 0:\n",
        "                times.append(dizionario[i][1])\n",
        "        \n",
        "            else:\n",
        "                times.append(times[n-1] + dizionario[i][1])\n",
        "        \n",
        "        new_diz = {v[0]:(*v[1], x) for v, x in zip(dizionario.items(), times)}\n",
        "        \n",
        "        return new_diz\n",
        "#########################################################################################\n",
        "\n",
        "    def turn_around_times(dizionario : dict):   #\n",
        "        \n",
        "        a_list = []\n",
        "        \n",
        "        for i in dizionario.keys():\n",
        "\n",
        "            desired = dizionario[i][2] - dizionario[i][0]\n",
        "            # difference between Exit time and Arrival of the processes\n",
        "\n",
        "            #if desired < 0: \n",
        "            #    desired = dizionario[i][1]\n",
        "            # if negative there is no queue ahead, so TAT = Burst_time\n",
        "            # perche WT = TAT - Burst_time deve essere  0\n",
        "            # not sure \n",
        "\n",
        "            a_list.append(desired)\n",
        "\n",
        "        new_diz = {v[0]:(*v[1], x) for v, x in zip(dizionario.items(), a_list)}\n",
        "\n",
        "        return new_diz\n",
        "#########################################################################################\n",
        "\n",
        "    def waiting_times(dizionario : dict):\n",
        "        \n",
        "        a_list = []\n",
        "        \n",
        "        for i in dizionario.keys():\n",
        "            \n",
        "            wt = dizionario[i][3]-dizionario[i][1]\n",
        "            # difference between turn around time and burst time\n",
        "\n",
        "            a_list.append(wt)\n",
        "        \n",
        "        new_diz = {v[0]:(*v[1], x) for v, x in zip(dizionario.items(), a_list)}\n",
        "        \n",
        "        return new_diz\n",
        "#########################################################################################\n",
        "    \n",
        "    def Scheduling(queue : list, µ = 0.1):   # queue is list of dict\n",
        "\n",
        "        arrival_time_tasks = [int(queue[i][\"Arrival_Time\"]) for i in range(len(queue))]\n",
        "        running_time_tasks = [(queue[i][\"CPU\"]/ µ)*1000 for i in range(len(queue))]      # from seconds to milliseconds\n",
        "\n",
        "        dict_values = list(zip(arrival_time_tasks, running_time_tasks))\n",
        "\n",
        "        #d = {int(queue[key][\"Job_ID\"]): dict_values[key] for key in range(len(queue))}\n",
        "        d = {str(int(queue[key][\"Job_ID\"]))+ \"_\" + str(int(queue[key][\"Task_ID\"])): dict_values[key] for key in range(len(queue))}\n",
        "        d = dict(sorted(d.items(), key=lambda item: item[1])) # sort by time arrival (not sure if needed)\n",
        "        # KEY = job_id --> VALUES = Arrival_Time, Burst_time\n",
        "\n",
        "        my_list = [x[0] for x in d.values()]\n",
        "        time_deltas = [my_list[i]-my_list[i-1] if i !=0 else 0 for i in reversed(range(len(my_list)))][::-1]\n",
        "        new_d = {v[0]:(new,v[1][1]) for v, new in zip(d.items(), time_deltas)}\n",
        "        # KEY = job_id --> VALUES = Time_delta, Burst_time\n",
        "\n",
        "        results = FCFS.exit_time(new_d)\n",
        "        results = FCFS.turn_around_times(results)\n",
        "        results = FCFS.waiting_times(results)\n",
        "        # KEY = job_id --> VALUES = Time_delta, Burst_time, Exit_time, Turn_around_time, Waiting_time\n",
        "\n",
        "        df = pd.DataFrame.from_dict(results, orient='index').reset_index()\n",
        "        df.columns = [\"Job_id\", \"Time_deltas\", \"execution_time\", \"exit_time\", \"turn_around\", \"waiting\"]\n",
        "        \n",
        "        #print(\"\\n Mean Waiting Time: {} \\n\".format(df[\"waiting\"].mean()))\n",
        "\n",
        "        return df\n",
        "        \n",
        "#########################################################################################"
      ],
      "metadata": {
        "id": "YpeTkhismG6K"
      },
      "execution_count": null,
      "outputs": []
    },
    {
      "cell_type": "code",
      "source": [
        "# fake queue for testing purposes\n",
        "\n",
        "server_dict = [data.iloc[i].to_dict() for i in range(20)]"
      ],
      "metadata": {
        "id": "rd0lOam15Se4"
      },
      "execution_count": null,
      "outputs": []
    },
    {
      "cell_type": "code",
      "source": [
        "def highlight_max(cell):\n",
        "\n",
        "    if type(cell) != str and cell < 0 :\n",
        "\n",
        "        return 'color: red'\n",
        "    else:\n",
        "        return 'color: green'"
      ],
      "metadata": {
        "id": "dAJxVZkkTd7Z"
      },
      "execution_count": null,
      "outputs": []
    },
    {
      "cell_type": "code",
      "source": [
        "FCFS.Scheduling(server_dict).style.applymap(highlight_max, subset=pd.IndexSlice[:, [\"execution_time\", 'waiting']])\n",
        "\n",
        "# negative waiting_time --> no queue for this job          --> that's good i guess\n",
        "#                     --> server stays jobless for a while --> maybe bad "
      ],
      "metadata": {
        "colab": {
          "base_uri": "https://localhost:8080/",
          "height": 676
        },
        "id": "rA3gHTD56qiu",
        "outputId": "8e8090b6-8254-4cdc-ca7d-a184c9282a26"
      },
      "execution_count": null,
      "outputs": [
        {
          "output_type": "execute_result",
          "data": {
            "text/plain": [
              "<pandas.io.formats.style.Styler at 0x7efc7449ec50>"
            ],
            "text/html": [
              "<style type=\"text/css\">\n",
              "#T_ed306_row0_col2, #T_ed306_row0_col5, #T_ed306_row1_col2, #T_ed306_row2_col2, #T_ed306_row3_col2, #T_ed306_row3_col5, #T_ed306_row4_col2, #T_ed306_row5_col2, #T_ed306_row6_col2, #T_ed306_row7_col2, #T_ed306_row8_col2, #T_ed306_row9_col2, #T_ed306_row10_col2, #T_ed306_row11_col2, #T_ed306_row12_col2, #T_ed306_row13_col2, #T_ed306_row14_col2, #T_ed306_row14_col5, #T_ed306_row15_col2, #T_ed306_row15_col5, #T_ed306_row16_col2, #T_ed306_row16_col5, #T_ed306_row17_col2, #T_ed306_row17_col5, #T_ed306_row18_col2, #T_ed306_row19_col2 {\n",
              "  color: green;\n",
              "}\n",
              "#T_ed306_row1_col5, #T_ed306_row2_col5, #T_ed306_row4_col5, #T_ed306_row5_col5, #T_ed306_row6_col5, #T_ed306_row7_col5, #T_ed306_row8_col5, #T_ed306_row9_col5, #T_ed306_row10_col5, #T_ed306_row11_col5, #T_ed306_row12_col5, #T_ed306_row13_col5, #T_ed306_row18_col5, #T_ed306_row19_col5 {\n",
              "  color: red;\n",
              "}\n",
              "</style>\n",
              "<table id=\"T_ed306\" class=\"dataframe\">\n",
              "  <thead>\n",
              "    <tr>\n",
              "      <th class=\"blank level0\" >&nbsp;</th>\n",
              "      <th id=\"T_ed306_level0_col0\" class=\"col_heading level0 col0\" >Job_id</th>\n",
              "      <th id=\"T_ed306_level0_col1\" class=\"col_heading level0 col1\" >Time_deltas</th>\n",
              "      <th id=\"T_ed306_level0_col2\" class=\"col_heading level0 col2\" >execution_time</th>\n",
              "      <th id=\"T_ed306_level0_col3\" class=\"col_heading level0 col3\" >exit_time</th>\n",
              "      <th id=\"T_ed306_level0_col4\" class=\"col_heading level0 col4\" >turn_around</th>\n",
              "      <th id=\"T_ed306_level0_col5\" class=\"col_heading level0 col5\" >waiting</th>\n",
              "    </tr>\n",
              "  </thead>\n",
              "  <tbody>\n",
              "    <tr>\n",
              "      <th id=\"T_ed306_level0_row0\" class=\"row_heading level0 row0\" >0</th>\n",
              "      <td id=\"T_ed306_row0_col0\" class=\"data row0 col0\" >375000667413_0</td>\n",
              "      <td id=\"T_ed306_row0_col1\" class=\"data row0 col1\" >0</td>\n",
              "      <td id=\"T_ed306_row0_col2\" class=\"data row0 col2\" >418.510437</td>\n",
              "      <td id=\"T_ed306_row0_col3\" class=\"data row0 col3\" >418.510437</td>\n",
              "      <td id=\"T_ed306_row0_col4\" class=\"data row0 col4\" >418.510437</td>\n",
              "      <td id=\"T_ed306_row0_col5\" class=\"data row0 col5\" >0.000000</td>\n",
              "    </tr>\n",
              "    <tr>\n",
              "      <th id=\"T_ed306_level0_row1\" class=\"row_heading level0 row1\" >1</th>\n",
              "      <td id=\"T_ed306_row1_col0\" class=\"data row1 col0\" >375000669289_0</td>\n",
              "      <td id=\"T_ed306_row1_col1\" class=\"data row1 col1\" >3386741</td>\n",
              "      <td id=\"T_ed306_row1_col2\" class=\"data row1 col2\" >249.681473</td>\n",
              "      <td id=\"T_ed306_row1_col3\" class=\"data row1 col3\" >668.191910</td>\n",
              "      <td id=\"T_ed306_row1_col4\" class=\"data row1 col4\" >-3386072.808090</td>\n",
              "      <td id=\"T_ed306_row1_col5\" class=\"data row1 col5\" >-3386322.489563</td>\n",
              "    </tr>\n",
              "    <tr>\n",
              "      <th id=\"T_ed306_level0_row2\" class=\"row_heading level0 row2\" >2</th>\n",
              "      <td id=\"T_ed306_row2_col0\" class=\"data row2 col0\" >375000670586_0</td>\n",
              "      <td id=\"T_ed306_row2_col1\" class=\"data row2 col1\" >2581412</td>\n",
              "      <td id=\"T_ed306_row2_col2\" class=\"data row2 col2\" >241.756439</td>\n",
              "      <td id=\"T_ed306_row2_col3\" class=\"data row2 col3\" >909.948349</td>\n",
              "      <td id=\"T_ed306_row2_col4\" class=\"data row2 col4\" >-2580502.051651</td>\n",
              "      <td id=\"T_ed306_row2_col5\" class=\"data row2 col5\" >-2580743.808090</td>\n",
              "    </tr>\n",
              "    <tr>\n",
              "      <th id=\"T_ed306_level0_row3\" class=\"row_heading level0 row3\" >3</th>\n",
              "      <td id=\"T_ed306_row3_col0\" class=\"data row3 col0\" >375000670588_0</td>\n",
              "      <td id=\"T_ed306_row3_col1\" class=\"data row3 col1\" >13</td>\n",
              "      <td id=\"T_ed306_row3_col2\" class=\"data row3 col2\" >195.522308</td>\n",
              "      <td id=\"T_ed306_row3_col3\" class=\"data row3 col3\" >1105.470657</td>\n",
              "      <td id=\"T_ed306_row3_col4\" class=\"data row3 col4\" >1092.470657</td>\n",
              "      <td id=\"T_ed306_row3_col5\" class=\"data row3 col5\" >896.948349</td>\n",
              "    </tr>\n",
              "    <tr>\n",
              "      <th id=\"T_ed306_level0_row4\" class=\"row_heading level0 row4\" >4</th>\n",
              "      <td id=\"T_ed306_row4_col0\" class=\"data row4 col0\" >375000670590_0</td>\n",
              "      <td id=\"T_ed306_row4_col1\" class=\"data row4 col1\" >48437</td>\n",
              "      <td id=\"T_ed306_row4_col2\" class=\"data row4 col2\" >280.437469</td>\n",
              "      <td id=\"T_ed306_row4_col3\" class=\"data row4 col3\" >1385.908127</td>\n",
              "      <td id=\"T_ed306_row4_col4\" class=\"data row4 col4\" >-47051.091873</td>\n",
              "      <td id=\"T_ed306_row4_col5\" class=\"data row4 col5\" >-47331.529343</td>\n",
              "    </tr>\n",
              "    <tr>\n",
              "      <th id=\"T_ed306_level0_row5\" class=\"row_heading level0 row5\" >5</th>\n",
              "      <td id=\"T_ed306_row5_col0\" class=\"data row5 col0\" >375000670901_0</td>\n",
              "      <td id=\"T_ed306_row5_col1\" class=\"data row5 col1\" >751754</td>\n",
              "      <td id=\"T_ed306_row5_col2\" class=\"data row5 col2\" >279.102325</td>\n",
              "      <td id=\"T_ed306_row5_col3\" class=\"data row5 col3\" >1665.010452</td>\n",
              "      <td id=\"T_ed306_row5_col4\" class=\"data row5 col4\" >-750088.989548</td>\n",
              "      <td id=\"T_ed306_row5_col5\" class=\"data row5 col5\" >-750368.091873</td>\n",
              "    </tr>\n",
              "    <tr>\n",
              "      <th id=\"T_ed306_level0_row6\" class=\"row_heading level0 row6\" >6</th>\n",
              "      <td id=\"T_ed306_row6_col0\" class=\"data row6 col0\" >375000670926_0</td>\n",
              "      <td id=\"T_ed306_row6_col1\" class=\"data row6 col1\" >28007</td>\n",
              "      <td id=\"T_ed306_row6_col2\" class=\"data row6 col2\" >303.726196</td>\n",
              "      <td id=\"T_ed306_row6_col3\" class=\"data row6 col3\" >1968.736649</td>\n",
              "      <td id=\"T_ed306_row6_col4\" class=\"data row6 col4\" >-26038.263351</td>\n",
              "      <td id=\"T_ed306_row6_col5\" class=\"data row6 col5\" >-26341.989548</td>\n",
              "    </tr>\n",
              "    <tr>\n",
              "      <th id=\"T_ed306_level0_row7\" class=\"row_heading level0 row7\" >7</th>\n",
              "      <td id=\"T_ed306_row7_col0\" class=\"data row7 col0\" >375000670981_0</td>\n",
              "      <td id=\"T_ed306_row7_col1\" class=\"data row7 col1\" >412680</td>\n",
              "      <td id=\"T_ed306_row7_col2\" class=\"data row7 col2\" >184.736252</td>\n",
              "      <td id=\"T_ed306_row7_col3\" class=\"data row7 col3\" >2153.472900</td>\n",
              "      <td id=\"T_ed306_row7_col4\" class=\"data row7 col4\" >-410526.527100</td>\n",
              "      <td id=\"T_ed306_row7_col5\" class=\"data row7 col5\" >-410711.263351</td>\n",
              "    </tr>\n",
              "    <tr>\n",
              "      <th id=\"T_ed306_level0_row8\" class=\"row_heading level0 row8\" >8</th>\n",
              "      <td id=\"T_ed306_row8_col0\" class=\"data row8 col0\" >375000671303_0</td>\n",
              "      <td id=\"T_ed306_row8_col1\" class=\"data row8 col1\" >747053</td>\n",
              "      <td id=\"T_ed306_row8_col2\" class=\"data row8 col2\" >250.272751</td>\n",
              "      <td id=\"T_ed306_row8_col3\" class=\"data row8 col3\" >2403.745651</td>\n",
              "      <td id=\"T_ed306_row8_col4\" class=\"data row8 col4\" >-744649.254349</td>\n",
              "      <td id=\"T_ed306_row8_col5\" class=\"data row8 col5\" >-744899.527100</td>\n",
              "    </tr>\n",
              "    <tr>\n",
              "      <th id=\"T_ed306_level0_row9\" class=\"row_heading level0 row9\" >9</th>\n",
              "      <td id=\"T_ed306_row9_col0\" class=\"data row9 col0\" >375000671907_0</td>\n",
              "      <td id=\"T_ed306_row9_col1\" class=\"data row9 col1\" >4614372</td>\n",
              "      <td id=\"T_ed306_row9_col2\" class=\"data row9 col2\" >87446.479797</td>\n",
              "      <td id=\"T_ed306_row9_col3\" class=\"data row9 col3\" >89850.225449</td>\n",
              "      <td id=\"T_ed306_row9_col4\" class=\"data row9 col4\" >-4524521.774551</td>\n",
              "      <td id=\"T_ed306_row9_col5\" class=\"data row9 col5\" >-4611968.254349</td>\n",
              "    </tr>\n",
              "    <tr>\n",
              "      <th id=\"T_ed306_level0_row10\" class=\"row_heading level0 row10\" >10</th>\n",
              "      <td id=\"T_ed306_row10_col0\" class=\"data row10 col0\" >375000672054_0</td>\n",
              "      <td id=\"T_ed306_row10_col1\" class=\"data row10 col1\" >216729</td>\n",
              "      <td id=\"T_ed306_row10_col2\" class=\"data row10 col2\" >727.930069</td>\n",
              "      <td id=\"T_ed306_row10_col3\" class=\"data row10 col3\" >90578.155518</td>\n",
              "      <td id=\"T_ed306_row10_col4\" class=\"data row10 col4\" >-126150.844482</td>\n",
              "      <td id=\"T_ed306_row10_col5\" class=\"data row10 col5\" >-126878.774551</td>\n",
              "    </tr>\n",
              "    <tr>\n",
              "      <th id=\"T_ed306_level0_row11\" class=\"row_heading level0 row11\" >11</th>\n",
              "      <td id=\"T_ed306_row11_col0\" class=\"data row11 col0\" >375000672441_0</td>\n",
              "      <td id=\"T_ed306_row11_col1\" class=\"data row11 col1\" >156180</td>\n",
              "      <td id=\"T_ed306_row11_col2\" class=\"data row11 col2\" >533.533096</td>\n",
              "      <td id=\"T_ed306_row11_col3\" class=\"data row11 col3\" >91111.688614</td>\n",
              "      <td id=\"T_ed306_row11_col4\" class=\"data row11 col4\" >-65068.311386</td>\n",
              "      <td id=\"T_ed306_row11_col5\" class=\"data row11 col5\" >-65601.844482</td>\n",
              "    </tr>\n",
              "    <tr>\n",
              "      <th id=\"T_ed306_level0_row12\" class=\"row_heading level0 row12\" >12</th>\n",
              "      <td id=\"T_ed306_row12_col0\" class=\"data row12 col0\" >375000673486_0</td>\n",
              "      <td id=\"T_ed306_row12_col1\" class=\"data row12 col1\" >1196417</td>\n",
              "      <td id=\"T_ed306_row12_col2\" class=\"data row12 col2\" >1561.918259</td>\n",
              "      <td id=\"T_ed306_row12_col3\" class=\"data row12 col3\" >92673.606873</td>\n",
              "      <td id=\"T_ed306_row12_col4\" class=\"data row12 col4\" >-1103743.393127</td>\n",
              "      <td id=\"T_ed306_row12_col5\" class=\"data row12 col5\" >-1105305.311386</td>\n",
              "    </tr>\n",
              "    <tr>\n",
              "      <th id=\"T_ed306_level0_row13\" class=\"row_heading level0 row13\" >13</th>\n",
              "      <td id=\"T_ed306_row13_col0\" class=\"data row13 col0\" >375000675711_0</td>\n",
              "      <td id=\"T_ed306_row13_col1\" class=\"data row13 col1\" >3431134</td>\n",
              "      <td id=\"T_ed306_row13_col2\" class=\"data row13 col2\" >316.972733</td>\n",
              "      <td id=\"T_ed306_row13_col3\" class=\"data row13 col3\" >92990.579605</td>\n",
              "      <td id=\"T_ed306_row13_col4\" class=\"data row13 col4\" >-3338143.420395</td>\n",
              "      <td id=\"T_ed306_row13_col5\" class=\"data row13 col5\" >-3338460.393127</td>\n",
              "    </tr>\n",
              "    <tr>\n",
              "      <th id=\"T_ed306_level0_row14\" class=\"row_heading level0 row14\" >14</th>\n",
              "      <td id=\"T_ed306_row14_col0\" class=\"data row14 col0\" >375000675713_0</td>\n",
              "      <td id=\"T_ed306_row14_col1\" class=\"data row14 col1\" >13</td>\n",
              "      <td id=\"T_ed306_row14_col2\" class=\"data row14 col2\" >288.009644</td>\n",
              "      <td id=\"T_ed306_row14_col3\" class=\"data row14 col3\" >93278.589249</td>\n",
              "      <td id=\"T_ed306_row14_col4\" class=\"data row14 col4\" >93265.589249</td>\n",
              "      <td id=\"T_ed306_row14_col5\" class=\"data row14 col5\" >92977.579605</td>\n",
              "    </tr>\n",
              "    <tr>\n",
              "      <th id=\"T_ed306_level0_row15\" class=\"row_heading level0 row15\" >15</th>\n",
              "      <td id=\"T_ed306_row15_col0\" class=\"data row15 col0\" >375000675715_0</td>\n",
              "      <td id=\"T_ed306_row15_col1\" class=\"data row15 col1\" >13</td>\n",
              "      <td id=\"T_ed306_row15_col2\" class=\"data row15 col2\" >307.464600</td>\n",
              "      <td id=\"T_ed306_row15_col3\" class=\"data row15 col3\" >93586.053848</td>\n",
              "      <td id=\"T_ed306_row15_col4\" class=\"data row15 col4\" >93573.053848</td>\n",
              "      <td id=\"T_ed306_row15_col5\" class=\"data row15 col5\" >93265.589249</td>\n",
              "    </tr>\n",
              "    <tr>\n",
              "      <th id=\"T_ed306_level0_row16\" class=\"row_heading level0 row16\" >16</th>\n",
              "      <td id=\"T_ed306_row16_col0\" class=\"data row16 col0\" >375000675717_0</td>\n",
              "      <td id=\"T_ed306_row16_col1\" class=\"data row16 col1\" >13</td>\n",
              "      <td id=\"T_ed306_row16_col2\" class=\"data row16 col2\" >254.516602</td>\n",
              "      <td id=\"T_ed306_row16_col3\" class=\"data row16 col3\" >93840.570450</td>\n",
              "      <td id=\"T_ed306_row16_col4\" class=\"data row16 col4\" >93827.570450</td>\n",
              "      <td id=\"T_ed306_row16_col5\" class=\"data row16 col5\" >93573.053848</td>\n",
              "    </tr>\n",
              "    <tr>\n",
              "      <th id=\"T_ed306_level0_row17\" class=\"row_heading level0 row17\" >17</th>\n",
              "      <td id=\"T_ed306_row17_col0\" class=\"data row17 col0\" >375000675719_0</td>\n",
              "      <td id=\"T_ed306_row17_col1\" class=\"data row17 col1\" >13</td>\n",
              "      <td id=\"T_ed306_row17_col2\" class=\"data row17 col2\" >302.543640</td>\n",
              "      <td id=\"T_ed306_row17_col3\" class=\"data row17 col3\" >94143.114090</td>\n",
              "      <td id=\"T_ed306_row17_col4\" class=\"data row17 col4\" >94130.114090</td>\n",
              "      <td id=\"T_ed306_row17_col5\" class=\"data row17 col5\" >93827.570450</td>\n",
              "    </tr>\n",
              "    <tr>\n",
              "      <th id=\"T_ed306_level0_row18\" class=\"row_heading level0 row18\" >18</th>\n",
              "      <td id=\"T_ed306_row18_col0\" class=\"data row18 col0\" >375000678316_0</td>\n",
              "      <td id=\"T_ed306_row18_col1\" class=\"data row18 col1\" >3688230</td>\n",
              "      <td id=\"T_ed306_row18_col2\" class=\"data row18 col2\" >1258.974075</td>\n",
              "      <td id=\"T_ed306_row18_col3\" class=\"data row18 col3\" >95402.088165</td>\n",
              "      <td id=\"T_ed306_row18_col4\" class=\"data row18 col4\" >-3592827.911835</td>\n",
              "      <td id=\"T_ed306_row18_col5\" class=\"data row18 col5\" >-3594086.885910</td>\n",
              "    </tr>\n",
              "    <tr>\n",
              "      <th id=\"T_ed306_level0_row19\" class=\"row_heading level0 row19\" >19</th>\n",
              "      <td id=\"T_ed306_row19_col0\" class=\"data row19 col0\" >375000679229_0</td>\n",
              "      <td id=\"T_ed306_row19_col1\" class=\"data row19 col1\" >1468371</td>\n",
              "      <td id=\"T_ed306_row19_col2\" class=\"data row19 col2\" >52.413940</td>\n",
              "      <td id=\"T_ed306_row19_col3\" class=\"data row19 col3\" >95454.502106</td>\n",
              "      <td id=\"T_ed306_row19_col4\" class=\"data row19 col4\" >-1372916.497894</td>\n",
              "      <td id=\"T_ed306_row19_col5\" class=\"data row19 col5\" >-1372968.911835</td>\n",
              "    </tr>\n",
              "  </tbody>\n",
              "</table>\n"
            ]
          },
          "metadata": {},
          "execution_count": 10
        }
      ]
    },
    {
      "cell_type": "markdown",
      "source": [
        "_______________________________________________________"
      ],
      "metadata": {
        "id": "PZRU53BMeJSa"
      }
    },
    {
      "cell_type": "code",
      "source": [
        "######################################################### \n",
        "\n",
        "def random_dispatcher(dizionario):  #diz da assegnare alle coda\n",
        "\n",
        "    server_selected = rdm.randrange(0, N)\n",
        "    \n",
        "    if servers_queues[server_selected] == None:\n",
        "      servers_queues[server_selected] = [dizionario]\n",
        "    else:\n",
        "      servers_queues[server_selected].append(dizionario)\n",
        "    "
      ],
      "metadata": {
        "id": "DRUSzw9zGswa"
      },
      "execution_count": null,
      "outputs": []
    },
    {
      "cell_type": "code",
      "source": [
        "servers_queues =  {x:None for x in range(0,N)}\n",
        "#print(servers_queues[0])\n",
        "\n",
        "st = time.time()\n",
        "\n",
        "for i in tqdm(range(len(data))):\n",
        "\n",
        "    diz = data.iloc[i].to_dict()\n",
        "\n",
        "    random_dispatcher(diz)\n",
        "\n",
        "et = time.time()\n",
        "print('\\n Execution time:', str(datetime.timedelta(seconds = et - st))[:10] , 'mins')"
      ],
      "metadata": {
        "colab": {
          "base_uri": "https://localhost:8080/",
          "height": 84,
          "referenced_widgets": [
            "ac389df45f8348b8abf2d74d42dc1179",
            "f5881ba1ad15490bbbf84f6f056cc985",
            "33a6ec30dab940fba8f7915862ed9ab5",
            "1c5e25d5ae7d4081ac1af29063af0f1a",
            "7c2f540fccfe48bc95c271e30c6f8007",
            "8b46c2dec74941209f0550e381d0ad85",
            "7553aaf0adc644108d6c735b206b3850",
            "4fa3158ca8c54048a361ff6a383b247d",
            "1e8fdbf5828c49d1b59cd7887538a10f",
            "ff3ba0156bf041bf83563d5eb0f9298a",
            "94d18672b19a47e8bf587d330047521e"
          ]
        },
        "id": "966CktefYt5-",
        "outputId": "3d19716a-26eb-47a2-97b2-6a242d1c1573"
      },
      "execution_count": null,
      "outputs": [
        {
          "output_type": "display_data",
          "data": {
            "text/plain": [
              "  0%|          | 0/2329133 [00:00<?, ?it/s]"
            ],
            "application/vnd.jupyter.widget-view+json": {
              "version_major": 2,
              "version_minor": 0,
              "model_id": "ac389df45f8348b8abf2d74d42dc1179"
            }
          },
          "metadata": {}
        },
        {
          "output_type": "stream",
          "name": "stdout",
          "text": [
            "\n",
            " Execution time: 0:03:52.60 mins\n"
          ]
        }
      ]
    },
    {
      "cell_type": "code",
      "source": [
        "print(\"each q length:\", [len(x) for x in servers_queues.values()])\n",
        "\n",
        "sum([len(x) for x in servers_queues.values()]) == data.shape[0]"
      ],
      "metadata": {
        "colab": {
          "base_uri": "https://localhost:8080/"
        },
        "id": "JB9gDMKfcoDr",
        "outputId": "7abb762c-a6c0-4ca7-a78b-26d3ea3b73fd"
      },
      "execution_count": null,
      "outputs": [
        {
          "output_type": "stream",
          "name": "stdout",
          "text": [
            "each q length: [36292, 36786, 36377, 36365, 36287, 36549, 36303, 36480, 36627, 36218, 36114, 36292, 36097, 36455, 36559, 36448, 36652, 36643, 35942, 36247, 36168, 36255, 36351, 36629, 36390, 36560, 36461, 36292, 36490, 36532, 36369, 36482, 36275, 36264, 36262, 35968, 36141, 36530, 36474, 36189, 36560, 36416, 36408, 36731, 36222, 36396, 36441, 36449, 36620, 36202, 36580, 36510, 36405, 36291, 36354, 36169, 36572, 36203, 36032, 36264, 36700, 36461, 36510, 36822]\n"
          ]
        },
        {
          "output_type": "execute_result",
          "data": {
            "text/plain": [
              "True"
            ]
          },
          "metadata": {},
          "execution_count": 13
        }
      ]
    },
    {
      "cell_type": "code",
      "source": [
        "list_of_df = []\n",
        "\n",
        "for key in tqdm(servers_queues.keys()):\n",
        "\n",
        "  x = FCFS.Scheduling(servers_queues[key])\n",
        "  \n",
        "  list_of_df.append(x)"
      ],
      "metadata": {
        "colab": {
          "base_uri": "https://localhost:8080/",
          "height": 49,
          "referenced_widgets": [
            "347e7606fbb345a88d3d159aaa85e574",
            "40b7a5e0283f46fdb3b33c3c9c723235",
            "4899ed7ca9c74c02b7f193c113f0384b",
            "48d747d7667649238634976ace458229",
            "b2ec7829749145c1a46faf73d647116c",
            "1c18fc56f18b401c99fb3cc7b9477a08",
            "81d56008c519445f8395056e9c1029b6",
            "ff52c6f5900f4327a0ca2f7e3195491d",
            "4b25f3e5be5242ebbe141ddc7cb734b5",
            "a3fd17afb5b842fb9a977f8caf6409d5",
            "fc03f652d36a48b48bfdb553203eb6d2"
          ]
        },
        "id": "zcuMs5yAZlUo",
        "outputId": "f86ed951-8240-43c8-8437-310b57117bfc"
      },
      "execution_count": null,
      "outputs": [
        {
          "output_type": "display_data",
          "data": {
            "text/plain": [
              "  0%|          | 0/64 [00:00<?, ?it/s]"
            ],
            "application/vnd.jupyter.widget-view+json": {
              "version_major": 2,
              "version_minor": 0,
              "model_id": "347e7606fbb345a88d3d159aaa85e574"
            }
          },
          "metadata": {}
        }
      ]
    },
    {
      "cell_type": "code",
      "source": [
        "## TO DO:\n",
        "# re-group by Job_ID and evaluate Job response time\n",
        "# then Job slowdown, Utilization coefficient of server,  Messaging load (?) "
      ],
      "metadata": {
        "id": "NFdje0fzZmSP"
      },
      "execution_count": null,
      "outputs": []
    },
    {
      "cell_type": "code",
      "source": [],
      "metadata": {
        "id": "FAu6NjQpj0eu"
      },
      "execution_count": null,
      "outputs": []
    },
    {
      "cell_type": "code",
      "source": [
        "df = pd.concat(list_of_df)\n",
        "df = df.sort_values(by=\"Job_id\")\n",
        "\n",
        "print(\"\\n df.shape: {} \\n\".format(df.shape))   # 1163061\n",
        "\n",
        "display(df.head())\n",
        "\n",
        "len(set(df[\"Job_id\"])) == 1163061  # stats.shape[0]"
      ],
      "metadata": {
        "colab": {
          "base_uri": "https://localhost:8080/",
          "height": 275
        },
        "id": "zdoqhlxKj0kt",
        "outputId": "99fab38f-5ce6-46cc-a7d9-d8a098f8143f"
      },
      "execution_count": null,
      "outputs": [
        {
          "output_type": "stream",
          "name": "stdout",
          "text": [
            "\n",
            " df.shape: (2329133, 6) \n",
            "\n"
          ]
        },
        {
          "output_type": "display_data",
          "data": {
            "text/plain": [
              "           Job_id  Time_deltas  execution_time   exit_time  turn_around  \\\n",
              "0  375000667413_0            0      418.510437  418.510437   418.510437   \n",
              "0  375000669289_0            0      249.681473  249.681473   249.681473   \n",
              "0  375000670586_0            0      241.756439  241.756439   241.756439   \n",
              "0  375000670588_0            0      195.522308  195.522308   195.522308   \n",
              "0  375000670590_0            0      280.437469  280.437469   280.437469   \n",
              "\n",
              "   waiting  \n",
              "0      0.0  \n",
              "0      0.0  \n",
              "0      0.0  \n",
              "0      0.0  \n",
              "0      0.0  "
            ],
            "text/html": [
              "\n",
              "  <div id=\"df-c45ce7c5-39e1-4715-848c-aa3fa489e358\">\n",
              "    <div class=\"colab-df-container\">\n",
              "      <div>\n",
              "<style scoped>\n",
              "    .dataframe tbody tr th:only-of-type {\n",
              "        vertical-align: middle;\n",
              "    }\n",
              "\n",
              "    .dataframe tbody tr th {\n",
              "        vertical-align: top;\n",
              "    }\n",
              "\n",
              "    .dataframe thead th {\n",
              "        text-align: right;\n",
              "    }\n",
              "</style>\n",
              "<table border=\"1\" class=\"dataframe\">\n",
              "  <thead>\n",
              "    <tr style=\"text-align: right;\">\n",
              "      <th></th>\n",
              "      <th>Job_id</th>\n",
              "      <th>Time_deltas</th>\n",
              "      <th>execution_time</th>\n",
              "      <th>exit_time</th>\n",
              "      <th>turn_around</th>\n",
              "      <th>waiting</th>\n",
              "    </tr>\n",
              "  </thead>\n",
              "  <tbody>\n",
              "    <tr>\n",
              "      <th>0</th>\n",
              "      <td>375000667413_0</td>\n",
              "      <td>0</td>\n",
              "      <td>418.510437</td>\n",
              "      <td>418.510437</td>\n",
              "      <td>418.510437</td>\n",
              "      <td>0.0</td>\n",
              "    </tr>\n",
              "    <tr>\n",
              "      <th>0</th>\n",
              "      <td>375000669289_0</td>\n",
              "      <td>0</td>\n",
              "      <td>249.681473</td>\n",
              "      <td>249.681473</td>\n",
              "      <td>249.681473</td>\n",
              "      <td>0.0</td>\n",
              "    </tr>\n",
              "    <tr>\n",
              "      <th>0</th>\n",
              "      <td>375000670586_0</td>\n",
              "      <td>0</td>\n",
              "      <td>241.756439</td>\n",
              "      <td>241.756439</td>\n",
              "      <td>241.756439</td>\n",
              "      <td>0.0</td>\n",
              "    </tr>\n",
              "    <tr>\n",
              "      <th>0</th>\n",
              "      <td>375000670588_0</td>\n",
              "      <td>0</td>\n",
              "      <td>195.522308</td>\n",
              "      <td>195.522308</td>\n",
              "      <td>195.522308</td>\n",
              "      <td>0.0</td>\n",
              "    </tr>\n",
              "    <tr>\n",
              "      <th>0</th>\n",
              "      <td>375000670590_0</td>\n",
              "      <td>0</td>\n",
              "      <td>280.437469</td>\n",
              "      <td>280.437469</td>\n",
              "      <td>280.437469</td>\n",
              "      <td>0.0</td>\n",
              "    </tr>\n",
              "  </tbody>\n",
              "</table>\n",
              "</div>\n",
              "      <button class=\"colab-df-convert\" onclick=\"convertToInteractive('df-c45ce7c5-39e1-4715-848c-aa3fa489e358')\"\n",
              "              title=\"Convert this dataframe to an interactive table.\"\n",
              "              style=\"display:none;\">\n",
              "        \n",
              "  <svg xmlns=\"http://www.w3.org/2000/svg\" height=\"24px\"viewBox=\"0 0 24 24\"\n",
              "       width=\"24px\">\n",
              "    <path d=\"M0 0h24v24H0V0z\" fill=\"none\"/>\n",
              "    <path d=\"M18.56 5.44l.94 2.06.94-2.06 2.06-.94-2.06-.94-.94-2.06-.94 2.06-2.06.94zm-11 1L8.5 8.5l.94-2.06 2.06-.94-2.06-.94L8.5 2.5l-.94 2.06-2.06.94zm10 10l.94 2.06.94-2.06 2.06-.94-2.06-.94-.94-2.06-.94 2.06-2.06.94z\"/><path d=\"M17.41 7.96l-1.37-1.37c-.4-.4-.92-.59-1.43-.59-.52 0-1.04.2-1.43.59L10.3 9.45l-7.72 7.72c-.78.78-.78 2.05 0 2.83L4 21.41c.39.39.9.59 1.41.59.51 0 1.02-.2 1.41-.59l7.78-7.78 2.81-2.81c.8-.78.8-2.07 0-2.86zM5.41 20L4 18.59l7.72-7.72 1.47 1.35L5.41 20z\"/>\n",
              "  </svg>\n",
              "      </button>\n",
              "      \n",
              "  <style>\n",
              "    .colab-df-container {\n",
              "      display:flex;\n",
              "      flex-wrap:wrap;\n",
              "      gap: 12px;\n",
              "    }\n",
              "\n",
              "    .colab-df-convert {\n",
              "      background-color: #E8F0FE;\n",
              "      border: none;\n",
              "      border-radius: 50%;\n",
              "      cursor: pointer;\n",
              "      display: none;\n",
              "      fill: #1967D2;\n",
              "      height: 32px;\n",
              "      padding: 0 0 0 0;\n",
              "      width: 32px;\n",
              "    }\n",
              "\n",
              "    .colab-df-convert:hover {\n",
              "      background-color: #E2EBFA;\n",
              "      box-shadow: 0px 1px 2px rgba(60, 64, 67, 0.3), 0px 1px 3px 1px rgba(60, 64, 67, 0.15);\n",
              "      fill: #174EA6;\n",
              "    }\n",
              "\n",
              "    [theme=dark] .colab-df-convert {\n",
              "      background-color: #3B4455;\n",
              "      fill: #D2E3FC;\n",
              "    }\n",
              "\n",
              "    [theme=dark] .colab-df-convert:hover {\n",
              "      background-color: #434B5C;\n",
              "      box-shadow: 0px 1px 3px 1px rgba(0, 0, 0, 0.15);\n",
              "      filter: drop-shadow(0px 1px 2px rgba(0, 0, 0, 0.3));\n",
              "      fill: #FFFFFF;\n",
              "    }\n",
              "  </style>\n",
              "\n",
              "      <script>\n",
              "        const buttonEl =\n",
              "          document.querySelector('#df-c45ce7c5-39e1-4715-848c-aa3fa489e358 button.colab-df-convert');\n",
              "        buttonEl.style.display =\n",
              "          google.colab.kernel.accessAllowed ? 'block' : 'none';\n",
              "\n",
              "        async function convertToInteractive(key) {\n",
              "          const element = document.querySelector('#df-c45ce7c5-39e1-4715-848c-aa3fa489e358');\n",
              "          const dataTable =\n",
              "            await google.colab.kernel.invokeFunction('convertToInteractive',\n",
              "                                                     [key], {});\n",
              "          if (!dataTable) return;\n",
              "\n",
              "          const docLinkHtml = 'Like what you see? Visit the ' +\n",
              "            '<a target=\"_blank\" href=https://colab.research.google.com/notebooks/data_table.ipynb>data table notebook</a>'\n",
              "            + ' to learn more about interactive tables.';\n",
              "          element.innerHTML = '';\n",
              "          dataTable['output_type'] = 'display_data';\n",
              "          await google.colab.output.renderOutput(dataTable, element);\n",
              "          const docLink = document.createElement('div');\n",
              "          docLink.innerHTML = docLinkHtml;\n",
              "          element.appendChild(docLink);\n",
              "        }\n",
              "      </script>\n",
              "    </div>\n",
              "  </div>\n",
              "  "
            ]
          },
          "metadata": {}
        },
        {
          "output_type": "execute_result",
          "data": {
            "text/plain": [
              "False"
            ]
          },
          "metadata": {},
          "execution_count": 16
        }
      ]
    },
    {
      "cell_type": "code",
      "source": [
        "df.shape[0] == data.shape[0]"
      ],
      "metadata": {
        "colab": {
          "base_uri": "https://localhost:8080/"
        },
        "id": "W_P8i_U_5MqR",
        "outputId": "300fe779-2638-4688-c505-b9e07784ac30"
      },
      "execution_count": null,
      "outputs": [
        {
          "output_type": "execute_result",
          "data": {
            "text/plain": [
              "True"
            ]
          },
          "metadata": {},
          "execution_count": 17
        }
      ]
    },
    {
      "cell_type": "code",
      "source": [
        "# JOB_RESPONSE_TIME = execution_time + waiting_time for all its task \n",
        "\n",
        "# ma se due task dello stesso job sono svolte in contemporanea su due server diversi?\n",
        "# c'è da riprendere il tempo assoluto di arrivo "
      ],
      "metadata": {
        "id": "8or2emk2mFKb"
      },
      "execution_count": null,
      "outputs": []
    },
    {
      "cell_type": "code",
      "source": [
        "df.groupby(['Job_id'])[[\"waiting\", \"exit_time\"]].sum()"
      ],
      "metadata": {
        "id": "kLpNFJx1UhTl",
        "colab": {
          "base_uri": "https://localhost:8080/",
          "height": 455
        },
        "outputId": "9b174686-64f1-4f0a-9978-e84d28af7cf9"
      },
      "execution_count": null,
      "outputs": [
        {
          "output_type": "execute_result",
          "data": {
            "text/plain": [
              "                     waiting     exit_time\n",
              "Job_id                                    \n",
              "375000667413_0  0.000000e+00  4.185104e+02\n",
              "375000669289_0  0.000000e+00  2.496815e+02\n",
              "375000670586_0  0.000000e+00  2.417564e+02\n",
              "375000670588_0  0.000000e+00  1.955223e+02\n",
              "375000670590_0  0.000000e+00  2.804375e+02\n",
              "...                      ...           ...\n",
              "400465219425_0  9.377879e+08  9.726386e+08\n",
              "400465219425_1  1.340268e+09  1.367037e+09\n",
              "400465256347_0  7.752852e+08  1.529105e+09\n",
              "400465256349_0  1.355397e+09  1.367037e+09\n",
              "400465274601_0  6.457131e+08  1.276473e+09\n",
              "\n",
              "[2329133 rows x 2 columns]"
            ],
            "text/html": [
              "\n",
              "  <div id=\"df-15b72077-955f-4ba4-810b-ae69f3209ea9\">\n",
              "    <div class=\"colab-df-container\">\n",
              "      <div>\n",
              "<style scoped>\n",
              "    .dataframe tbody tr th:only-of-type {\n",
              "        vertical-align: middle;\n",
              "    }\n",
              "\n",
              "    .dataframe tbody tr th {\n",
              "        vertical-align: top;\n",
              "    }\n",
              "\n",
              "    .dataframe thead th {\n",
              "        text-align: right;\n",
              "    }\n",
              "</style>\n",
              "<table border=\"1\" class=\"dataframe\">\n",
              "  <thead>\n",
              "    <tr style=\"text-align: right;\">\n",
              "      <th></th>\n",
              "      <th>waiting</th>\n",
              "      <th>exit_time</th>\n",
              "    </tr>\n",
              "    <tr>\n",
              "      <th>Job_id</th>\n",
              "      <th></th>\n",
              "      <th></th>\n",
              "    </tr>\n",
              "  </thead>\n",
              "  <tbody>\n",
              "    <tr>\n",
              "      <th>375000667413_0</th>\n",
              "      <td>0.000000e+00</td>\n",
              "      <td>4.185104e+02</td>\n",
              "    </tr>\n",
              "    <tr>\n",
              "      <th>375000669289_0</th>\n",
              "      <td>0.000000e+00</td>\n",
              "      <td>2.496815e+02</td>\n",
              "    </tr>\n",
              "    <tr>\n",
              "      <th>375000670586_0</th>\n",
              "      <td>0.000000e+00</td>\n",
              "      <td>2.417564e+02</td>\n",
              "    </tr>\n",
              "    <tr>\n",
              "      <th>375000670588_0</th>\n",
              "      <td>0.000000e+00</td>\n",
              "      <td>1.955223e+02</td>\n",
              "    </tr>\n",
              "    <tr>\n",
              "      <th>375000670590_0</th>\n",
              "      <td>0.000000e+00</td>\n",
              "      <td>2.804375e+02</td>\n",
              "    </tr>\n",
              "    <tr>\n",
              "      <th>...</th>\n",
              "      <td>...</td>\n",
              "      <td>...</td>\n",
              "    </tr>\n",
              "    <tr>\n",
              "      <th>400465219425_0</th>\n",
              "      <td>9.377879e+08</td>\n",
              "      <td>9.726386e+08</td>\n",
              "    </tr>\n",
              "    <tr>\n",
              "      <th>400465219425_1</th>\n",
              "      <td>1.340268e+09</td>\n",
              "      <td>1.367037e+09</td>\n",
              "    </tr>\n",
              "    <tr>\n",
              "      <th>400465256347_0</th>\n",
              "      <td>7.752852e+08</td>\n",
              "      <td>1.529105e+09</td>\n",
              "    </tr>\n",
              "    <tr>\n",
              "      <th>400465256349_0</th>\n",
              "      <td>1.355397e+09</td>\n",
              "      <td>1.367037e+09</td>\n",
              "    </tr>\n",
              "    <tr>\n",
              "      <th>400465274601_0</th>\n",
              "      <td>6.457131e+08</td>\n",
              "      <td>1.276473e+09</td>\n",
              "    </tr>\n",
              "  </tbody>\n",
              "</table>\n",
              "<p>2329133 rows × 2 columns</p>\n",
              "</div>\n",
              "      <button class=\"colab-df-convert\" onclick=\"convertToInteractive('df-15b72077-955f-4ba4-810b-ae69f3209ea9')\"\n",
              "              title=\"Convert this dataframe to an interactive table.\"\n",
              "              style=\"display:none;\">\n",
              "        \n",
              "  <svg xmlns=\"http://www.w3.org/2000/svg\" height=\"24px\"viewBox=\"0 0 24 24\"\n",
              "       width=\"24px\">\n",
              "    <path d=\"M0 0h24v24H0V0z\" fill=\"none\"/>\n",
              "    <path d=\"M18.56 5.44l.94 2.06.94-2.06 2.06-.94-2.06-.94-.94-2.06-.94 2.06-2.06.94zm-11 1L8.5 8.5l.94-2.06 2.06-.94-2.06-.94L8.5 2.5l-.94 2.06-2.06.94zm10 10l.94 2.06.94-2.06 2.06-.94-2.06-.94-.94-2.06-.94 2.06-2.06.94z\"/><path d=\"M17.41 7.96l-1.37-1.37c-.4-.4-.92-.59-1.43-.59-.52 0-1.04.2-1.43.59L10.3 9.45l-7.72 7.72c-.78.78-.78 2.05 0 2.83L4 21.41c.39.39.9.59 1.41.59.51 0 1.02-.2 1.41-.59l7.78-7.78 2.81-2.81c.8-.78.8-2.07 0-2.86zM5.41 20L4 18.59l7.72-7.72 1.47 1.35L5.41 20z\"/>\n",
              "  </svg>\n",
              "      </button>\n",
              "      \n",
              "  <style>\n",
              "    .colab-df-container {\n",
              "      display:flex;\n",
              "      flex-wrap:wrap;\n",
              "      gap: 12px;\n",
              "    }\n",
              "\n",
              "    .colab-df-convert {\n",
              "      background-color: #E8F0FE;\n",
              "      border: none;\n",
              "      border-radius: 50%;\n",
              "      cursor: pointer;\n",
              "      display: none;\n",
              "      fill: #1967D2;\n",
              "      height: 32px;\n",
              "      padding: 0 0 0 0;\n",
              "      width: 32px;\n",
              "    }\n",
              "\n",
              "    .colab-df-convert:hover {\n",
              "      background-color: #E2EBFA;\n",
              "      box-shadow: 0px 1px 2px rgba(60, 64, 67, 0.3), 0px 1px 3px 1px rgba(60, 64, 67, 0.15);\n",
              "      fill: #174EA6;\n",
              "    }\n",
              "\n",
              "    [theme=dark] .colab-df-convert {\n",
              "      background-color: #3B4455;\n",
              "      fill: #D2E3FC;\n",
              "    }\n",
              "\n",
              "    [theme=dark] .colab-df-convert:hover {\n",
              "      background-color: #434B5C;\n",
              "      box-shadow: 0px 1px 3px 1px rgba(0, 0, 0, 0.15);\n",
              "      filter: drop-shadow(0px 1px 2px rgba(0, 0, 0, 0.3));\n",
              "      fill: #FFFFFF;\n",
              "    }\n",
              "  </style>\n",
              "\n",
              "      <script>\n",
              "        const buttonEl =\n",
              "          document.querySelector('#df-15b72077-955f-4ba4-810b-ae69f3209ea9 button.colab-df-convert');\n",
              "        buttonEl.style.display =\n",
              "          google.colab.kernel.accessAllowed ? 'block' : 'none';\n",
              "\n",
              "        async function convertToInteractive(key) {\n",
              "          const element = document.querySelector('#df-15b72077-955f-4ba4-810b-ae69f3209ea9');\n",
              "          const dataTable =\n",
              "            await google.colab.kernel.invokeFunction('convertToInteractive',\n",
              "                                                     [key], {});\n",
              "          if (!dataTable) return;\n",
              "\n",
              "          const docLinkHtml = 'Like what you see? Visit the ' +\n",
              "            '<a target=\"_blank\" href=https://colab.research.google.com/notebooks/data_table.ipynb>data table notebook</a>'\n",
              "            + ' to learn more about interactive tables.';\n",
              "          element.innerHTML = '';\n",
              "          dataTable['output_type'] = 'display_data';\n",
              "          await google.colab.output.renderOutput(dataTable, element);\n",
              "          const docLink = document.createElement('div');\n",
              "          docLink.innerHTML = docLinkHtml;\n",
              "          element.appendChild(docLink);\n",
              "        }\n",
              "      </script>\n",
              "    </div>\n",
              "  </div>\n",
              "  "
            ]
          },
          "metadata": {},
          "execution_count": 19
        }
      ]
    },
    {
      "cell_type": "code",
      "source": [],
      "metadata": {
        "id": "08qbSsF2BRG9"
      },
      "execution_count": null,
      "outputs": []
    }
  ]
}